{
 "cells": [
  {
   "cell_type": "markdown",
   "metadata": {},
   "source": [
    "# Zajęcia 1 (część 2)"
   ]
  },
  {
   "cell_type": "markdown",
   "metadata": {},
   "source": [
    "## Wczytanie danych\n",
    "\n",
    "Bedziemy wykorzystywać danye z ankiety StackOverflow z 2020.\n",
    "\n",
    "https://insights.stackoverflow.com/survey/\n",
    "\n",
    "Dane sa dostepne na google drive. Skorzystamy z modułu GoogleDriveDownloader, ktory pozwala pobrac dokument o podanym id.\n"
   ]
  },
  {
   "cell_type": "code",
   "execution_count": 1,
   "metadata": {
    "tags": []
   },
   "outputs": [
    {
     "name": "stdout",
     "output_type": "stream",
     "text": [
      "Collecting googledrivedownloader\n",
      "  Downloading googledrivedownloader-0.4-py2.py3-none-any.whl.metadata (304 bytes)\n",
      "Downloading googledrivedownloader-0.4-py2.py3-none-any.whl (3.9 kB)\n",
      "Installing collected packages: googledrivedownloader\n",
      "Successfully installed googledrivedownloader-0.4\n",
      "\u001b[33mWARNING: Running pip as the 'root' user can result in broken permissions and conflicting behaviour with the system package manager. It is recommended to use a virtual environment instead: https://pip.pypa.io/warnings/venv\u001b[0m\u001b[33m\n",
      "\u001b[0m"
     ]
    }
   ],
   "source": [
    "! pip install googledrivedownloader"
   ]
  },
  {
   "cell_type": "code",
   "execution_count": 2,
   "metadata": {
    "tags": []
   },
   "outputs": [],
   "source": [
    "from google_drive_downloader import GoogleDriveDownloader as gdd"
   ]
  },
  {
   "cell_type": "code",
   "execution_count": 3,
   "metadata": {
    "tags": []
   },
   "outputs": [],
   "source": [
    "from pathlib import Path\n",
    "path_dir = str(Path.home()) + \"/data/2020/\"  # ustawmy sciezke na HOME/data/2020\n",
    "archive_dir = path_dir + \"survey.zip\"        # plik zapiszemy pod nazwa survey.zip"
   ]
  },
  {
   "cell_type": "code",
   "execution_count": 4,
   "metadata": {
    "tags": []
   },
   "outputs": [
    {
     "data": {
      "text/plain": [
       "'/root/data/2020/'"
      ]
     },
     "execution_count": 4,
     "metadata": {},
     "output_type": "execute_result"
    }
   ],
   "source": [
    "path_dir"
   ]
  },
  {
   "cell_type": "code",
   "execution_count": 5,
   "metadata": {
    "tags": []
   },
   "outputs": [
    {
     "data": {
      "text/plain": [
       "'/root/data/2020/survey.zip'"
      ]
     },
     "execution_count": 5,
     "metadata": {},
     "output_type": "execute_result"
    }
   ],
   "source": [
    "archive_dir"
   ]
  },
  {
   "cell_type": "code",
   "execution_count": 6,
   "metadata": {
    "tags": []
   },
   "outputs": [
    {
     "name": "stdout",
     "output_type": "stream",
     "text": [
      "Downloading 1dfGerWeWkcyQ9GX9x20rdSGj7WtEpzBB into /root/data/2020/survey.zip... Done.\n",
      "Unzipping...Done.\n"
     ]
    }
   ],
   "source": [
    "# sciagniecie pliku we wskazane miejsce\n",
    "gdd.download_file_from_google_drive(file_id='1dfGerWeWkcyQ9GX9x20rdSGj7WtEpzBB',\n",
    "                                    dest_path=archive_dir,\n",
    "                                    unzip=True)"
   ]
  },
  {
   "cell_type": "markdown",
   "metadata": {},
   "source": [
    "# TODO Please update user id\n",
    "%env USER_ID=7044\n",
    "%env SEMESTER=2024l## <span style='background:yellow'> ZADANIE 1 </span>\n",
    "Zapoznaj sie z plikami tekstowymi (survey_results_public.csv oraz survey_results_schema.csv). Podejrzyj ich zawartość, sprawdź ich wielkość (liczba linii oraz rozmiar). Wgraj plik do swojego kubełka `gs://ds-$SEMESTER-$USER_ID-notebook-data` na GCS do katalogu `survey/2020/`. Jesli nie masz kubełka stwórz go.\n"
   ]
  },
  {
   "cell_type": "code",
   "execution_count": 7,
   "metadata": {
    "tags": []
   },
   "outputs": [
    {
     "name": "stdout",
     "output_type": "stream",
     "text": [
      "env: USER_ID=7044\n",
      "env: SEMESTER=2024l\n"
     ]
    }
   ],
   "source": [
    "# TODO Please update user id\n",
    "%env USER_ID=7044\n",
    "%env SEMESTER=2024l"
   ]
  },
  {
   "cell_type": "code",
   "execution_count": 8,
   "metadata": {
    "tags": []
   },
   "outputs": [
    {
     "name": "stdout",
     "output_type": "stream",
     "text": [
      "Copying file:///root/data/2020/survey_results_public.csv [Content-Type=text/csv]...\n",
      "- [1 files][ 90.2 MiB/ 90.2 MiB]                                                \n",
      "Operation completed over 1 objects/90.2 MiB.                                     \n"
     ]
    }
   ],
   "source": [
    "! gsutil cp /root/data/2020/survey_results_public.csv gs://ds-$SEMESTER-$USER_ID-notebook-data/survey/2020/"
   ]
  },
  {
   "cell_type": "markdown",
   "metadata": {},
   "source": [
    "##  Podłączenie do sesji Spark na GKE\n"
   ]
  },
  {
   "cell_type": "markdown",
   "metadata": {},
   "source": [
    "#### WAZNE\n",
    "jesli w poprzednim notatniku masz aktywną sesję Spark zakończ ją (w poprzednim notatniku) poleceniem spark.stop()"
   ]
  },
  {
   "cell_type": "code",
   "execution_count": 14,
   "metadata": {
    "tags": []
   },
   "outputs": [
    {
     "name": "stderr",
     "output_type": "stream",
     "text": [
      "Setting default log level to \"WARN\".\n",
      "To adjust logging level use sc.setLogLevel(newLevel). For SparkR, use setLogLevel(newLevel).\n",
      "24/12/22 15:19:19 INFO SparkEnv: Registering MapOutputTracker\n",
      "24/12/22 15:19:19 INFO SparkEnv: Registering BlockManagerMaster\n",
      "24/12/22 15:19:19 INFO SparkEnv: Registering BlockManagerMasterHeartbeat\n",
      "24/12/22 15:19:19 INFO SparkEnv: Registering OutputCommitCoordinator\n"
     ]
    }
   ],
   "source": [
    "from pyspark.sql import SparkSession\n",
    "#spark.stop()\n",
    "spark = SparkSession \\\n",
    ".builder \\\n",
    ".config(\"spark.executor.instances\", \"1\")\\\n",
    ".config('spark.driver.memory','1g')\\\n",
    ".config('spark.executor.memory', '1g') \\\n",
    ".getOrCreate()"
   ]
  },
  {
   "cell_type": "markdown",
   "metadata": {},
   "source": [
    "## Dostęp do danych na GCS"
   ]
  },
  {
   "cell_type": "code",
   "execution_count": 15,
   "metadata": {
    "tags": []
   },
   "outputs": [],
   "source": [
    "# ścieżka dostępu do pliku na GCS\n",
    "# TODO Please update user id\n",
    "user_id = 7044\n",
    "semester = '2024l'\n",
    "gs_path = f'gs://ds-{semester}-{user_id}-notebook-data/survey/2020/survey_results_public.csv'"
   ]
  },
  {
   "cell_type": "code",
   "execution_count": 16,
   "metadata": {
    "tags": []
   },
   "outputs": [
    {
     "data": {
      "text/plain": [
       "'gs://ds-2024l-7044-notebook-data/survey/2020/survey_results_public.csv'"
      ]
     },
     "execution_count": 16,
     "metadata": {},
     "output_type": "execute_result"
    }
   ],
   "source": [
    "gs_path"
   ]
  },
  {
   "cell_type": "markdown",
   "metadata": {},
   "source": [
    "## Spark SQL\n",
    "\n",
    "Platforma Apache Spark posiada komponent Spark SQL, który pozwala traktować dane jak tabele w bazie danych. Można zakładać swoje schematy baz danych oraz korzystać z języka SQL."
   ]
  },
  {
   "cell_type": "code",
   "execution_count": 17,
   "metadata": {
    "tags": []
   },
   "outputs": [],
   "source": [
    "table_name = \"survey_2020\"                               # nazwa tabeli ktora bedziemy chcieli stworzyc"
   ]
  },
  {
   "cell_type": "code",
   "execution_count": 18,
   "metadata": {
    "tags": []
   },
   "outputs": [
    {
     "name": "stderr",
     "output_type": "stream",
     "text": [
      "ivysettings.xml file not found in HIVE_HOME or HIVE_CONF_DIR,/etc/hive/conf.dist/ivysettings.xml will be used\n",
      "24/12/22 15:20:13 WARN HiveExternalCatalog: Couldn't find corresponding Hive SerDe for data source provider csv. Persisting data source table `spark_catalog`.`default`.`survey_2020` into Hive metastore in Spark SQL specific format, which is NOT compatible with Hive.\n",
      "24/12/22 15:20:13 WARN SessionState: METASTORE_FILTER_HOOK will be ignored, since hive.security.authorization.manager is set to instance of HiveAuthorizerFactory.\n"
     ]
    },
    {
     "data": {
      "text/plain": [
       "DataFrame[]"
      ]
     },
     "execution_count": 18,
     "metadata": {},
     "output_type": "execute_result"
    }
   ],
   "source": [
    "spark.sql(f'DROP TABLE IF EXISTS {table_name}')       # usun te tabele jesli istniala wczesniej \n",
    "\n",
    "# stworz tabele korzystajac z danych we wskazanej lokalizacji\n",
    "spark.sql(f'CREATE TABLE IF NOT EXISTS {table_name} \\\n",
    "          USING csv \\\n",
    "          OPTIONS (HEADER true, INFERSCHEMA true) \\\n",
    "          LOCATION \"{gs_path}\"')"
   ]
  },
  {
   "cell_type": "markdown",
   "metadata": {},
   "source": [
    "## Weryfikacja danych \n",
    "Sprawdzmy zaczytane dane."
   ]
  },
  {
   "cell_type": "code",
   "execution_count": 19,
   "metadata": {
    "tags": []
   },
   "outputs": [
    {
     "name": "stdout",
     "output_type": "stream",
     "text": [
      "+--------------------+---------+-------+\n",
      "|            col_name|data_type|comment|\n",
      "+--------------------+---------+-------+\n",
      "|          Respondent|      int|   NULL|\n",
      "|          MainBranch|   string|   NULL|\n",
      "|            Hobbyist|   string|   NULL|\n",
      "|                 Age|   string|   NULL|\n",
      "|          Age1stCode|   string|   NULL|\n",
      "|            CompFreq|   string|   NULL|\n",
      "|           CompTotal|   string|   NULL|\n",
      "|       ConvertedComp|   string|   NULL|\n",
      "|             Country|   string|   NULL|\n",
      "|        CurrencyDesc|   string|   NULL|\n",
      "|      CurrencySymbol|   string|   NULL|\n",
      "|DatabaseDesireNex...|   string|   NULL|\n",
      "|  DatabaseWorkedWith|   string|   NULL|\n",
      "|             DevType|   string|   NULL|\n",
      "|             EdLevel|   string|   NULL|\n",
      "|          Employment|   string|   NULL|\n",
      "|           Ethnicity|   string|   NULL|\n",
      "|              Gender|   string|   NULL|\n",
      "|          JobFactors|   string|   NULL|\n",
      "|              JobSat|   string|   NULL|\n",
      "+--------------------+---------+-------+\n",
      "only showing top 20 rows\n",
      "\n"
     ]
    }
   ],
   "source": [
    "spark.sql(f\"describe {table_name}\").show() # nie wszystkie dane ..."
   ]
  },
  {
   "cell_type": "code",
   "execution_count": 20,
   "metadata": {
    "tags": []
   },
   "outputs": [
    {
     "name": "stdout",
     "output_type": "stream",
     "text": [
      "+----------------------------+---------+-------+\n",
      "|col_name                    |data_type|comment|\n",
      "+----------------------------+---------+-------+\n",
      "|Respondent                  |int      |NULL   |\n",
      "|MainBranch                  |string   |NULL   |\n",
      "|Hobbyist                    |string   |NULL   |\n",
      "|Age                         |string   |NULL   |\n",
      "|Age1stCode                  |string   |NULL   |\n",
      "|CompFreq                    |string   |NULL   |\n",
      "|CompTotal                   |string   |NULL   |\n",
      "|ConvertedComp               |string   |NULL   |\n",
      "|Country                     |string   |NULL   |\n",
      "|CurrencyDesc                |string   |NULL   |\n",
      "|CurrencySymbol              |string   |NULL   |\n",
      "|DatabaseDesireNextYear      |string   |NULL   |\n",
      "|DatabaseWorkedWith          |string   |NULL   |\n",
      "|DevType                     |string   |NULL   |\n",
      "|EdLevel                     |string   |NULL   |\n",
      "|Employment                  |string   |NULL   |\n",
      "|Ethnicity                   |string   |NULL   |\n",
      "|Gender                      |string   |NULL   |\n",
      "|JobFactors                  |string   |NULL   |\n",
      "|JobSat                      |string   |NULL   |\n",
      "|JobSeek                     |string   |NULL   |\n",
      "|LanguageDesireNextYear      |string   |NULL   |\n",
      "|LanguageWorkedWith          |string   |NULL   |\n",
      "|MiscTechDesireNextYear      |string   |NULL   |\n",
      "|MiscTechWorkedWith          |string   |NULL   |\n",
      "|NEWCollabToolsDesireNextYear|string   |NULL   |\n",
      "|NEWCollabToolsWorkedWith    |string   |NULL   |\n",
      "|NEWDevOps                   |string   |NULL   |\n",
      "|NEWDevOpsImpt               |string   |NULL   |\n",
      "|NEWEdImpt                   |string   |NULL   |\n",
      "|NEWJobHunt                  |string   |NULL   |\n",
      "|NEWJobHuntResearch          |string   |NULL   |\n",
      "|NEWLearn                    |string   |NULL   |\n",
      "|NEWOffTopic                 |string   |NULL   |\n",
      "|NEWOnboardGood              |string   |NULL   |\n",
      "|NEWOtherComms               |string   |NULL   |\n",
      "|NEWOvertime                 |string   |NULL   |\n",
      "|NEWPurchaseResearch         |string   |NULL   |\n",
      "|NEWPurpleLink               |string   |NULL   |\n",
      "|NEWSOSites                  |string   |NULL   |\n",
      "|NEWStuck                    |string   |NULL   |\n",
      "|OpSys                       |string   |NULL   |\n",
      "|OrgSize                     |string   |NULL   |\n",
      "|PlatformDesireNextYear      |string   |NULL   |\n",
      "|PlatformWorkedWith          |string   |NULL   |\n",
      "|PurchaseWhat                |string   |NULL   |\n",
      "|Sexuality                   |string   |NULL   |\n",
      "|SOAccount                   |string   |NULL   |\n",
      "|SOComm                      |string   |NULL   |\n",
      "|SOPartFreq                  |string   |NULL   |\n",
      "|SOVisitFreq                 |string   |NULL   |\n",
      "|SurveyEase                  |string   |NULL   |\n",
      "|SurveyLength                |string   |NULL   |\n",
      "|Trans                       |string   |NULL   |\n",
      "|UndergradMajor              |string   |NULL   |\n",
      "|WebframeDesireNextYear      |string   |NULL   |\n",
      "|WebframeWorkedWith          |string   |NULL   |\n",
      "|WelcomeChange               |string   |NULL   |\n",
      "|WorkWeekHrs                 |string   |NULL   |\n",
      "|YearsCode                   |string   |NULL   |\n",
      "|YearsCodePro                |string   |NULL   |\n",
      "+----------------------------+---------+-------+\n",
      "\n"
     ]
    }
   ],
   "source": [
    "spark.sql(f\"describe {table_name}\").show(100, truncate=False) # niepoprawne typy danych... \"NA\" "
   ]
  },
  {
   "cell_type": "code",
   "execution_count": 21,
   "metadata": {
    "tags": []
   },
   "outputs": [
    {
     "name": "stderr",
     "output_type": "stream",
     "text": [
      "[Stage 4:>                                                          (0 + 1) / 1]\r"
     ]
    },
    {
     "name": "stdout",
     "output_type": "stream",
     "text": [
      "+---+\n",
      "|Age|\n",
      "+---+\n",
      "| NA|\n",
      "| 99|\n",
      "| 98|\n",
      "| 97|\n",
      "| 96|\n",
      "| 95|\n",
      "| 94|\n",
      "| 89|\n",
      "| 88|\n",
      "| 86|\n",
      "| 85|\n",
      "| 84|\n",
      "| 83|\n",
      "| 81|\n",
      "| 80|\n",
      "| 79|\n",
      "| 78|\n",
      "| 77|\n",
      "| 76|\n",
      "| 75|\n",
      "+---+\n",
      "only showing top 20 rows\n",
      "\n"
     ]
    },
    {
     "name": "stderr",
     "output_type": "stream",
     "text": [
      "                                                                                \r"
     ]
    }
   ],
   "source": [
    "spark.sql(f\"SELECT DISTINCT Age FROM {table_name} ORDER BY Age DESC\").show()"
   ]
  },
  {
   "cell_type": "markdown",
   "metadata": {},
   "source": [
    "## Obsługa wartosci 'NA' - ponowne stworzenie tabeli"
   ]
  },
  {
   "cell_type": "code",
   "execution_count": 22,
   "metadata": {
    "tags": []
   },
   "outputs": [
    {
     "name": "stderr",
     "output_type": "stream",
     "text": [
      "24/12/22 15:23:11 WARN HiveExternalCatalog: Couldn't find corresponding Hive SerDe for data source provider csv. Persisting data source table `spark_catalog`.`default`.`survey_2020` into Hive metastore in Spark SQL specific format, which is NOT compatible with Hive.\n"
     ]
    },
    {
     "data": {
      "text/plain": [
       "DataFrame[]"
      ]
     },
     "execution_count": 22,
     "metadata": {},
     "output_type": "execute_result"
    }
   ],
   "source": [
    "spark.sql(f'DROP TABLE IF EXISTS {table_name}')\n",
    "\n",
    "# wykorzystujemy dodatkową opcję: NULLVALUE \"NA\"\n",
    "spark.sql(f'CREATE TABLE IF NOT EXISTS {table_name} \\\n",
    "          USING csv \\\n",
    "          OPTIONS (HEADER true, INFERSCHEMA true, NULLVALUE \"NA\") \\\n",
    "          LOCATION \"{gs_path}\"')\n"
   ]
  },
  {
   "cell_type": "code",
   "execution_count": 23,
   "metadata": {
    "tags": []
   },
   "outputs": [
    {
     "name": "stdout",
     "output_type": "stream",
     "text": [
      "+--------------------+---------+-------+\n",
      "|            col_name|data_type|comment|\n",
      "+--------------------+---------+-------+\n",
      "|          Respondent|      int|   NULL|\n",
      "|          MainBranch|   string|   NULL|\n",
      "|            Hobbyist|   string|   NULL|\n",
      "|                 Age|   double|   NULL|\n",
      "|          Age1stCode|   string|   NULL|\n",
      "|            CompFreq|   string|   NULL|\n",
      "|           CompTotal|   double|   NULL|\n",
      "|       ConvertedComp|   double|   NULL|\n",
      "|             Country|   string|   NULL|\n",
      "|        CurrencyDesc|   string|   NULL|\n",
      "|      CurrencySymbol|   string|   NULL|\n",
      "|DatabaseDesireNex...|   string|   NULL|\n",
      "|  DatabaseWorkedWith|   string|   NULL|\n",
      "|             DevType|   string|   NULL|\n",
      "|             EdLevel|   string|   NULL|\n",
      "|          Employment|   string|   NULL|\n",
      "|           Ethnicity|   string|   NULL|\n",
      "|              Gender|   string|   NULL|\n",
      "|          JobFactors|   string|   NULL|\n",
      "|              JobSat|   string|   NULL|\n",
      "|             JobSeek|   string|   NULL|\n",
      "|LanguageDesireNex...|   string|   NULL|\n",
      "|  LanguageWorkedWith|   string|   NULL|\n",
      "|MiscTechDesireNex...|   string|   NULL|\n",
      "|  MiscTechWorkedWith|   string|   NULL|\n",
      "|NEWCollabToolsDes...|   string|   NULL|\n",
      "|NEWCollabToolsWor...|   string|   NULL|\n",
      "|           NEWDevOps|   string|   NULL|\n",
      "|       NEWDevOpsImpt|   string|   NULL|\n",
      "|           NEWEdImpt|   string|   NULL|\n",
      "|          NEWJobHunt|   string|   NULL|\n",
      "|  NEWJobHuntResearch|   string|   NULL|\n",
      "|            NEWLearn|   string|   NULL|\n",
      "|         NEWOffTopic|   string|   NULL|\n",
      "|      NEWOnboardGood|   string|   NULL|\n",
      "|       NEWOtherComms|   string|   NULL|\n",
      "|         NEWOvertime|   string|   NULL|\n",
      "| NEWPurchaseResearch|   string|   NULL|\n",
      "|       NEWPurpleLink|   string|   NULL|\n",
      "|          NEWSOSites|   string|   NULL|\n",
      "|            NEWStuck|   string|   NULL|\n",
      "|               OpSys|   string|   NULL|\n",
      "|             OrgSize|   string|   NULL|\n",
      "|PlatformDesireNex...|   string|   NULL|\n",
      "|  PlatformWorkedWith|   string|   NULL|\n",
      "|        PurchaseWhat|   string|   NULL|\n",
      "|           Sexuality|   string|   NULL|\n",
      "|           SOAccount|   string|   NULL|\n",
      "|              SOComm|   string|   NULL|\n",
      "|          SOPartFreq|   string|   NULL|\n",
      "|         SOVisitFreq|   string|   NULL|\n",
      "|          SurveyEase|   string|   NULL|\n",
      "|        SurveyLength|   string|   NULL|\n",
      "|               Trans|   string|   NULL|\n",
      "|      UndergradMajor|   string|   NULL|\n",
      "|WebframeDesireNex...|   string|   NULL|\n",
      "|  WebframeWorkedWith|   string|   NULL|\n",
      "|       WelcomeChange|   string|   NULL|\n",
      "|         WorkWeekHrs|   double|   NULL|\n",
      "|           YearsCode|   string|   NULL|\n",
      "|        YearsCodePro|   string|   NULL|\n",
      "+--------------------+---------+-------+\n",
      "\n"
     ]
    }
   ],
   "source": [
    "spark.sql(f\"DESCRIBE {table_name}\").show(100)"
   ]
  },
  {
   "cell_type": "code",
   "execution_count": 24,
   "metadata": {
    "tags": []
   },
   "outputs": [
    {
     "name": "stderr",
     "output_type": "stream",
     "text": [
      "[Stage 7:=============================>                             (1 + 1) / 2]\r"
     ]
    },
    {
     "name": "stdout",
     "output_type": "stream",
     "text": [
      "+-----+\n",
      "|  Age|\n",
      "+-----+\n",
      "|279.0|\n",
      "| 99.0|\n",
      "| 98.0|\n",
      "| 97.0|\n",
      "| 96.0|\n",
      "| 95.0|\n",
      "| 94.0|\n",
      "| 89.0|\n",
      "| 88.0|\n",
      "| 86.0|\n",
      "| 85.0|\n",
      "| 84.0|\n",
      "| 83.0|\n",
      "| 81.0|\n",
      "| 80.0|\n",
      "| 79.0|\n",
      "| 78.0|\n",
      "| 77.0|\n",
      "| 76.0|\n",
      "| 75.0|\n",
      "+-----+\n",
      "only showing top 20 rows\n",
      "\n"
     ]
    },
    {
     "name": "stderr",
     "output_type": "stream",
     "text": [
      "                                                                                \r"
     ]
    }
   ],
   "source": [
    "spark.sql(f\"SELECT DISTINCT  Age FROM {table_name} ORDER BY Age DESC\").show()"
   ]
  },
  {
   "cell_type": "code",
   "execution_count": 25,
   "metadata": {
    "tags": []
   },
   "outputs": [
    {
     "name": "stderr",
     "output_type": "stream",
     "text": [
      "[Stage 10:=============================>                            (1 + 1) / 2]\r"
     ]
    },
    {
     "name": "stdout",
     "output_type": "stream",
     "text": [
      "+--------+\n",
      "|count(1)|\n",
      "+--------+\n",
      "|   64461|\n",
      "+--------+\n",
      "\n"
     ]
    },
    {
     "name": "stderr",
     "output_type": "stream",
     "text": [
      "                                                                                \r"
     ]
    }
   ],
   "source": [
    "# sprawdzenie liczności tabeli\n",
    "spark.sql(f\"select count(*) from {table_name}\").show()"
   ]
  },
  {
   "cell_type": "code",
   "execution_count": 26,
   "metadata": {
    "tags": []
   },
   "outputs": [
    {
     "name": "stdout",
     "output_type": "stream",
     "text": [
      "== Physical Plan ==\n",
      "AdaptiveSparkPlan isFinalPlan=false\n",
      "+- HashAggregate(keys=[], functions=[count(1)])\n",
      "   +- Exchange SinglePartition, ENSURE_REQUIREMENTS, [plan_id=211]\n",
      "      +- HashAggregate(keys=[], functions=[partial_count(1)])\n",
      "         +- FileScan csv spark_catalog.default.survey_2020[] Batched: false, DataFilters: [], Format: CSV, Location: InMemoryFileIndex(1 paths)[gs://ds-2024l-7044-notebook-data/survey/2020/survey_results_public.csv], PartitionFilters: [], PushedFilters: [], ReadSchema: struct<>\n",
      "\n",
      "\n"
     ]
    }
   ],
   "source": [
    "spark.sql(f\"select count(*) from {table_name}\").explain()  # tak jak na poprzednich zajeciach mozemy wygenerowac plany wykonania polecenia"
   ]
  },
  {
   "cell_type": "markdown",
   "metadata": {},
   "source": [
    "## Podgląd danych"
   ]
  },
  {
   "cell_type": "code",
   "execution_count": 27,
   "metadata": {
    "tags": []
   },
   "outputs": [
    {
     "name": "stderr",
     "output_type": "stream",
     "text": [
      "24/12/22 15:24:47 WARN SparkStringUtils: Truncated the string representation of a plan since it was too large. This behavior can be adjusted by setting 'spark.sql.debug.maxToStringFields'.\n",
      "                                                                                \r"
     ]
    },
    {
     "name": "stdout",
     "output_type": "stream",
     "text": [
      "+----------+--------------------+--------+----+----------+--------+---------+-------------+------------------+--------------------+--------------+----------------------+--------------------+--------------------+--------------------+--------------------+--------------------+------+--------------------+--------------------+--------------------+----------------------+--------------------+----------------------+--------------------+----------------------------+------------------------+---------+-------------------+--------------------+--------------------+--------------------+--------------------+-----------+--------------------+-------------+--------------------+--------------------+-----------------+--------------------+--------------------+-----------+--------------------+----------------------+--------------------+--------------------+--------------------+---------+---------------+--------------------+--------------------+--------------------+--------------------+-----+--------------------+----------------------+--------------------+--------------------+-----------+---------+------------+\n",
      "|Respondent|          MainBranch|Hobbyist| Age|Age1stCode|CompFreq|CompTotal|ConvertedComp|           Country|        CurrencyDesc|CurrencySymbol|DatabaseDesireNextYear|  DatabaseWorkedWith|             DevType|             EdLevel|          Employment|           Ethnicity|Gender|          JobFactors|              JobSat|             JobSeek|LanguageDesireNextYear|  LanguageWorkedWith|MiscTechDesireNextYear|  MiscTechWorkedWith|NEWCollabToolsDesireNextYear|NEWCollabToolsWorkedWith|NEWDevOps|      NEWDevOpsImpt|           NEWEdImpt|          NEWJobHunt|  NEWJobHuntResearch|            NEWLearn|NEWOffTopic|      NEWOnboardGood|NEWOtherComms|         NEWOvertime| NEWPurchaseResearch|    NEWPurpleLink|          NEWSOSites|            NEWStuck|      OpSys|             OrgSize|PlatformDesireNextYear|  PlatformWorkedWith|        PurchaseWhat|           Sexuality|SOAccount|         SOComm|          SOPartFreq|         SOVisitFreq|          SurveyEase|        SurveyLength|Trans|      UndergradMajor|WebframeDesireNextYear|  WebframeWorkedWith|       WelcomeChange|WorkWeekHrs|YearsCode|YearsCodePro|\n",
      "+----------+--------------------+--------+----+----------+--------+---------+-------------+------------------+--------------------+--------------+----------------------+--------------------+--------------------+--------------------+--------------------+--------------------+------+--------------------+--------------------+--------------------+----------------------+--------------------+----------------------+--------------------+----------------------------+------------------------+---------+-------------------+--------------------+--------------------+--------------------+--------------------+-----------+--------------------+-------------+--------------------+--------------------+-----------------+--------------------+--------------------+-----------+--------------------+----------------------+--------------------+--------------------+--------------------+---------+---------------+--------------------+--------------------+--------------------+--------------------+-----+--------------------+----------------------+--------------------+--------------------+-----------+---------+------------+\n",
      "|         1|I am a developer ...|     Yes|NULL|        13| Monthly|     NULL|         NULL|           Germany|       European Euro|           EUR|  Microsoft SQL Server|Elasticsearch;Mic...|Developer, deskto...|Master’s degree (...|Independent contr...|White or of Europ...|   Man|Languages, framew...|  Slightly satisfied|I am not interest...|  C#;HTML/CSS;JavaS...|C#;HTML/CSS;JavaS...|     .NET Core;Xamarin|      .NET;.NET Core|        Microsoft Teams;M...|    Confluence;Jira;S...|       No| Somewhat important|    Fairly important|                NULL|                NULL|         Once a year|   Not sure|                NULL|           No|Often: 1-2 days p...|Start a free tria...|           Amused|Stack Overflow (p...|Visit Stack Overf...|    Windows|    2 to 9 employees|  Android;iOS;Kuber...|             Windows|                NULL|Straight / Hetero...|       No| No, not at all|                NULL|Multiple times pe...|Neither easy nor ...|Appropriate in le...|   No|Computer science,...|          ASP.NET Core|ASP.NET;ASP.NET Core|Just as welcome n...|       50.0|       36|          27|\n",
      "|         2|I am a developer ...|      No|NULL|        19|    NULL|     NULL|         NULL|    United Kingdom|      Pound sterling|           GBP|                  NULL|                NULL|Developer, full-s...|Bachelor’s degree...|  Employed full-time|                NULL|  NULL|                NULL|   Very dissatisfied|I am not interest...|          Python;Swift|    JavaScript;Swift|  React Native;Tens...|        React Native|                Github;Slack|    Confluence;Jira;G...|     NULL|               NULL|    Fairly important|                NULL|                NULL|         Once a year|   Not sure|                NULL|           No|                NULL|                NULL|           Amused|Stack Overflow (p...|Visit Stack Overf...|      MacOS|1,000 to 4,999 em...|  iOS;Kubernetes;Li...|                 iOS|I have little or ...|                NULL|      Yes|Yes, definitely|Less than once pe...|Multiple times pe...|                NULL|                NULL| NULL|Computer science,...|                  NULL|                NULL|Somewhat more wel...|       NULL|        7|           4|\n",
      "|         3|I code primarily ...|     Yes|NULL|        15|    NULL|     NULL|         NULL|Russian Federation|                NULL|          NULL|                  NULL|                NULL|                NULL|                NULL|                NULL|                NULL|  NULL|                NULL|                NULL|                NULL|  Objective-C;Pytho...|Objective-C;Pytho...|                  NULL|                NULL|                        NULL|                    NULL|     NULL|               NULL|                NULL|                NULL|                NULL|       Once a decade|       NULL|                NULL|           No|                NULL|                NULL|             NULL|Stack Overflow (p...|                NULL|Linux-based|                NULL|                  NULL|                NULL|                NULL|                NULL|      Yes|  Yes, somewhat|A few times per m...|Daily or almost d...|Neither easy nor ...|Appropriate in le...| NULL|                NULL|                  NULL|                NULL|Somewhat more wel...|       NULL|        4|        NULL|\n",
      "|         4|I am a developer ...|     Yes|25.0|        18|    NULL|     NULL|         NULL|           Albania|        Albanian lek|           ALL|                  NULL|                NULL|                NULL|Master’s degree (...|                NULL|White or of Europ...|   Man|Flex time or a fl...|Slightly dissatis...|I’m not actively ...|                  NULL|                NULL|                  NULL|                NULL|                        NULL|                    NULL|       No|               NULL|Not at all import...|Curious about oth...|                NULL|         Once a year|   Not sure|                 Yes|          Yes|Occasionally: 1-2...|                NULL|             NULL|Stack Overflow (p...|                NULL|Linux-based|  20 to 99 employees|                  NULL|                NULL|I have a great de...|Straight / Hetero...|      Yes|Yes, definitely|A few times per m...|Multiple times pe...|                NULL|                NULL|   No|Computer science,...|                  NULL|                NULL|Somewhat less wel...|       40.0|        7|           4|\n",
      "|         5|I used to be a de...|     Yes|31.0|        16|    NULL|     NULL|         NULL|     United States|                NULL|          NULL|      MySQL;PostgreSQL|MySQL;PostgreSQL;...|                NULL|Bachelor’s degree...|  Employed full-time|White or of Europ...|   Man|                NULL|                NULL|                NULL|       Java;Ruby;Scala|   HTML/CSS;Ruby;SQL|          Ansible;Chef|             Ansible|        Github;Google Sui...|    Confluence;Jira;G...|     NULL|               NULL|      Very important|                NULL|                NULL|         Once a year|         No|                NULL|          Yes|                NULL|Start a free tria...|Hello, old friend|Stack Overflow (p...|Call a coworker o...|    Windows|                NULL|  Docker;Google Clo...|AWS;Docker;Linux;...|                NULL|Straight / Hetero...|      Yes|  Yes, somewhat|Less than once pe...|A few times per m...|                Easy|           Too short|   No|Computer science,...|  Django;Ruby on Rails|       Ruby on Rails|Just as welcome n...|       NULL|       15|           8|\n",
      "|         6|I am a developer ...|      No|NULL|        14|    NULL|     NULL|         NULL|           Germany|       European Euro|           EUR|                  NULL|                NULL|Designer;Develope...|Secondary school ...|  Employed full-time|White or of Europ...|   Man|Diversity of the ...|  Slightly satisfied|I am not interest...|  HTML/CSS;Java;Jav...|HTML/CSS;Java;Jav...|                  NULL|                NULL|                Github;Slack|    Confluence;Github...| Not sure|               NULL|    Fairly important|                NULL|                NULL|         Once a year|         No|                  No|           No|               Never|Ask developers I ...|           Amused|Stack Overflow (p...|Play games;Visit ...|    Windows|                NULL|               Android|Android;Docker;Wo...|I have some influ...|Straight / Hetero...|      Yes|  Yes, somewhat|A few times per m...|A few times per week|Neither easy nor ...|Appropriate in le...| NULL|                NULL|              React.js|                NULL|                NULL|       NULL|        6|           4|\n",
      "|         7|I am a developer ...|     Yes|NULL|        18| Monthly|     NULL|         NULL|             India|United States dollar|           USD|                  NULL|                NULL|Developer, back-e...|Bachelor’s degree...|  Employed full-time|                NULL|  NULL|                NULL|      Very satisfied|I’m not actively ...|       C#;HTML/CSS;PHP|     C#;HTML/CSS;PHP|                  NULL|                NULL|                        NULL|                    NULL|      Yes|Extremely important|      Very important|Better compensati...|Read company medi...|    Every few months|        Yes|                 Yes|           No|Sometimes: 1-2 da...|Start a free tria...|             NULL|Stack Overflow (p...|                NULL|    Windows|  20 to 99 employees|                  NULL|                NULL|                NULL|                NULL|      Yes|Yes, definitely|Multiple times pe...|Multiple times pe...|                NULL|                NULL| NULL|Computer science,...|                  NULL|                NULL|A lot more welcom...|       NULL|        6|           4|\n",
      "|         8|I am a developer ...|     Yes|36.0|        12|  Yearly| 116000.0|     116000.0|     United States|United States dollar|           USD|               MongoDB| MariaDB;MySQL;Redis|Developer, back-e...|Bachelor’s degree...|  Employed full-time|White or of Europ...|   Man|Remote work optio...|Slightly dissatis...|I’m not actively ...|            JavaScript|          Python;SQL|              Unity 3D|             Ansible|                        NULL|    Confluence;Jira;G...|      Yes|Extremely important|Not at all import...|Curious about oth...|Read company medi...|         Once a year|   Not sure|                 Yes|           No|Occasionally: 1-2...|Start a free tria...|Hello, old friend|Stack Overflow (p...|Play games;Call a...|Linux-based|  20 to 99 employees|  iOS;Slack Apps an...|              Docker|I have some influ...|Straight / Hetero...|      Yes| No, not really|Less than once pe...|Multiple times pe...|                Easy|Appropriate in le...|   No|Computer science,...|  Django;React.js;V...|               Flask|Just as welcome n...|       39.0|       17|          13|\n",
      "|         9|I am a developer ...|      No|30.0|        20|    NULL|     NULL|         NULL|           Tunisia|United States dollar|           USD|                  NULL|                NULL|Developer, full-s...|Professional degr...|Independent contr...|                NULL|   Man|Diversity of the ...|   Very dissatisfied|I’m not actively ...|           Python;Rust|HTML/CSS;JavaScri...|                  NULL|                NULL|                        NULL|    Github;Slack;Trel...|     NULL|               NULL|      Very important|Curious about oth...|                NULL|         Once a year|         No|                 Yes|           No|Occasionally: 1-2...|  Start a free trial|Hello, old friend|Stack Overflow (p...|            Meditate|    Windows|Just me - I am a ...|                  NULL|           WordPress|                NULL|Straight / Hetero...|      Yes|Yes, definitely|Multiple times pe...|Multiple times pe...|Neither easy nor ...|Appropriate in le...|   No|Computer science,...|            Angular.js|              jQuery|Just as welcome n...|       50.0|        6|           4|\n",
      "|        10|I am a developer ...|     Yes|22.0|        14|  Yearly|  25000.0|      32315.0|    United Kingdom|      Pound sterling|           GBP|  Microsoft SQL Server|Microsoft SQL Server|Database administ...|Master’s degree (...|  Employed full-time|White or of Europ...|   Man|Flex time or a fl...|      Very satisfied|I’m not actively ...|  HTML/CSS;Java;Jav...|HTML/CSS;Java;Jav...|     Pandas;TensorFlow|              Pandas|        Github;Microsoft ...|    Github;Microsoft ...|       No|            Neutral|    Fairly important|Curious about oth...|Company reviews f...|    Every few months|        Yes|Onboarding? What ...|           No|Often: 1-2 days p...|Start a free tria...|Hello, old friend|Stack Overflow (p...|Visit Stack Overflow|    Windows|    2 to 9 employees|  Android;Linux;Ras...|Android;Linux;Ras...|I have a great de...|Straight / Hetero...|      Yes|Yes, definitely|Multiple times pe...|Multiple times pe...|                Easy|Appropriate in le...|   No|Mathematics or st...|          Flask;jQuery|        Flask;jQuery|Somewhat more wel...|       36.0|        8|           4|\n",
      "|        11|I am a developer ...|     Yes|23.0|        13|  Yearly|  31000.0|      40070.0|    United Kingdom|      Pound sterling|           GBP|  Firebase;MongoDB;...|Firebase;MongoDB;...|Developer, back-e...|Bachelor’s degree...|  Employed full-time|White or of Europ...|   Man|Flex time or a fl...|Slightly dissatis...|I am actively loo...|  Go;JavaScript;Swi...| C#;JavaScript;Swift|  Node.js;React Native|             Node.js|        Jira;Github;Slack...|    Confluence;Jira;G...|       No|Extremely important|      Very important|Curious about oth...|Read company medi...|    Every few months|         No|                 Yes|           No|Rarely: 1-2 days ...|                NULL|          Annoyed|Stack Overflow (p...|Play games;Call a...|    Windows|10,000 or more em...|  AWS;Docker;iOS;MacOS|      AWS;Heroku;iOS|I have little or ...|Straight / Hetero...|      Yes|  Yes, somewhat|I have never part...|Multiple times pe...|                Easy|Appropriate in le...|   No|Computer science,...|  Angular;Django;Re...|Angular;Angular.j...|Just as welcome n...|       40.0|       10|           2|\n",
      "|        12|I am a developer ...|      No|49.0|        42| Monthly|   1100.0|      14268.0|             Spain|       European Euro|           EUR|                  NULL|                NULL|Designer;Develope...|Some college/univ...|  Employed full-time|White or of Europ...|   Man|Remote work optio...|   Very dissatisfied|I’m not actively ...|   HTML/CSS;JavaScript| HTML/CSS;JavaScript|                  .NET|                .NET|                      Github|                  Github| Not sure|            Neutral|  Somewhat important| Better compensation|Personal network ...|Once every few years|   Not sure|                  No|           No|Rarely: 1-2 days ...|                NULL|      Indifferent|Stack Overflow (p...|Visit Stack Overflow|    Windows|    2 to 9 employees|     Windows;WordPress|   Windows;WordPress|I have little or ...|Straight / Hetero...|      Yes|  Yes, somewhat|A few times per week|Multiple times pe...|                Easy|Appropriate in le...|   No|Mathematics or st...|        ASP.NET;jQuery|      ASP.NET;jQuery|Just as welcome n...|       40.0|        7|           7|\n",
      "|        13|I am not primaril...|     Yes|53.0|        14| Monthly|   3000.0|      38916.0|       Netherlands|       European Euro|           EUR|                  NULL|                NULL|Designer;Develope...|Secondary school ...|  Employed full-time|White or of Europ...|   Man|Industry that I’d...|      Very satisfied|I am not interest...|                Python| C;JavaScript;Python|                  NULL|                NULL|                        NULL|                    NULL|       No|               NULL|Not at all import...|Having a bad day ...|Read company medi...|Once every few years|         No|                 Yes|           No|Rarely: 1-2 days ...|  Start a free trial|           Amused|Stack Overflow (p...|Call a coworker o...|      MacOS|    2 to 9 employees|   Linux;MacOS;Windows|       MacOS;Windows|I have some influ...|Straight / Hetero...|      Yes|Yes, definitely|Multiple times pe...|Multiple times pe...|Neither easy nor ...|            Too long|   No|                NULL|                  NULL|                NULL|A lot less welcom...|       36.0|       35|          20|\n",
      "|        14|I am a developer ...|     Yes|27.0|        13|  Yearly|  66000.0|      66000.0|     United States|United States dollar|           USD|  Firebase;Microsof...|Firebase;Microsof...|Developer, deskto...|Associate degree ...|  Employed full-time|White or of Europ...|   Man|Industry that I’d...|  Slightly satisfied|I’m not actively ...|  HTML/CSS;JavaScri...|HTML/CSS;JavaScri...|               Node.js|             Node.js|        Confluence;Jira;G...|    Confluence;Jira;G...|      Yes|Extremely important|  Somewhat important|Wanting to share ...|Read company medi...|    Every few months|         No|                 Yes|           No|Occasionally: 1-2...|                NULL|           Amused|Stack Overflow (p...|Call a coworker o...|    Windows|100 to 499 employees|  Google Cloud Plat...|Google Cloud Plat...|I have little or ...|Straight / Hetero...|      Yes|Yes, definitely|A few times per week|Multiple times pe...|Neither easy nor ...|Appropriate in le...|   No|Computer science,...|        Angular;Vue.js|      Angular;Vue.js|Just as welcome n...|       40.0|        5|           1|\n",
      "|        15|I am a student wh...|     Yes|NULL|        13|    NULL|     NULL|         NULL|            France|                NULL|          NULL|                  NULL|        MySQL;Oracle|                NULL|Bachelor’s degree...|             Student|                NULL|   Man|Languages, framew...|                NULL|I’m not actively ...|  Assembly;Bash/She...|Bash/Shell/PowerS...|                  NULL|                NULL|               Github;Gitlab|                  Github|     NULL|               NULL|                NULL|                NULL|                NULL|Once every few years|        Yes|                NULL|           No|                NULL|Ask developers I ...|          Annoyed|Stack Overflow (p...|Play games;Visit ...|Linux-based|                NULL|                 Linux|               Linux|                NULL|      Gay or Lesbian|       No| No, not really|                NULL|A few times per m...|                Easy|Appropriate in le...|   No|Computer science,...|                  NULL|                NULL|Just as welcome n...|       NULL|        4|        NULL|\n",
      "|        16|I am a developer ...|     Yes|45.0|         8| Monthly|   7000.0|     108576.0|    United Kingdom|      Pound sterling|           GBP|                  NULL|          PostgreSQL|Database administ...|Bachelor’s degree...|Independent contr...|White or of Europ...|   Man|Industry that I’d...|      Very satisfied|I’m not actively ...|                    Go|Bash/Shell/PowerS...|                  NULL|                NULL|                        NULL|    Github;Slack;Goog...|       No|Extremely important|    Fairly important|Having a bad day ...|Personal network ...|         Once a year|   Not sure|                 Yes|           No|Often: 1-2 days p...|Ask developers I ...|Hello, old friend|Stack Overflow (p...|Visit Stack Overf...|      MacOS|Just me - I am a ...|                  NULL|AWS;Docker;Google...|                NULL|Straight / Hetero...|      Yes|  Yes, somewhat|Multiple times pe...|Multiple times pe...|                Easy|Appropriate in le...|   No|Computer science,...|                  NULL|     jQuery;React.js|Just as welcome n...|       50.0|       37|          23|\n",
      "|        17|I am a developer ...|     Yes|25.0|        14|  Yearly|  79000.0|      79000.0|     United States|United States dollar|           USD|  Cassandra;Elastic...|Microsoft SQL Ser...|Developer, full-s...|Bachelor’s degree...|  Employed full-time|White or of Europ...|   Man|Industry that I’d...|Slightly dissatis...|I’m not actively ...|  C#;Go;Haskell;HTM...|C#;HTML/CSS;JavaS...|    .NET Core;Teraform|        .NET;Node.js|        Github;Gitlab;Sla...|    Github;Gitlab;Sla...|      Yes|Extremely important|    Fairly important|Having a bad day ...|Company reviews f...|         Once a year|   Not sure|                  No|           No|Rarely: 1-2 days ...|                NULL|Hello, old friend|Stack Overflow (p...|Call a coworker o...|    Windows|  20 to 99 employees|  Docker;Kubernetes...|                NULL|I have little or ...|Straight / Hetero...|      Yes| No, not at all|I have never part...|Daily or almost d...|                Easy|Appropriate in le...|   No|Computer science,...|  ASP.NET Core;Gats...|ASP.NET;Gatsby;jQ...|Just as welcome n...|       40.0|        7|           3|\n",
      "|        18|I am a developer ...|     Yes|32.0|        12| Monthly| 105000.0|    1260000.0|     United States|United States dollar|           USD|  Elasticsearch;Pos...|Elasticsearch;Mar...| Developer, back-end|Bachelor’s degree...|  Employed full-time|White or of Europ...|   Man|Languages, framew...|      Very satisfied|I am not interest...|         HTML/CSS;Perl|Bash/Shell/PowerS...|                  NULL|                NULL|                      Github|            Github;Slack| Not sure|            Neutral|      Very important| Looking to relocate|                NULL|Once every few years|        Yes|Onboarding? What ...|          Yes|Occasionally: 1-2...|Start a free tria...|Hello, old friend|Stack Overflow (p...|Play games;Visit ...|Linux-based|100 to 499 employees|                 Linux|           AWS;Linux|I have some influ...|Straight / Hetero...|      Yes|  Yes, somewhat|I have never part...|Daily or almost d...|Neither easy nor ...|Appropriate in le...|   No|Computer science,...|                  NULL|                NULL|Just as welcome n...|       45.0|       19|          12|\n",
      "|        19|I am a developer ...|      No|24.0|        15|  Yearly|  83400.0|      83400.0|     United States|United States dollar|           USD|       MariaDB;MongoDB|MariaDB;Microsoft...|Developer, full-s...|Bachelor’s degree...|  Employed full-time|White or of Europ...|   Man|Flex time or a fl...|Slightly dissatis...|I’m not actively ...|  C#;Go;Python;Type...|Bash/Shell/PowerS...|  Node.js;React Nat...|.NET;.NET Core;No...|                Github;Slack|    Confluence;Jira;G...|      Yes|Extremely important|    Fairly important|Having a bad day ...|Company reviews f...|         Once a year|        Yes|                  No|           No|Occasionally: 1-2...|                NULL|Hello, old friend|Stack Overflow (p...|Call a coworker o...|    Windows|10,000 or more em...|  iOS;Slack Apps an...|             Windows|I have little or ...|Straight / Hetero...|      Yes|        Neutral|Less than once pe...|A few times per week|                Easy|Appropriate in le...|   No|Computer science,...|  Django;Express;Re...|Angular;Angular.j...|Just as welcome n...|       35.0|        9|           3|\n",
      "|        20|I am a developer ...|     Yes|40.0|        18|    NULL|     NULL|         NULL|             Spain|       European Euro|           EUR|                  NULL|IBM DB2;MariaDB;M...|Developer, deskto...|Bachelor’s degree...|  Employed full-time|Hispanic or Latin...|   Man|                NULL|Neither satisfied...|I’m not actively ...|                    Go| Java;JavaScript;SQL|            TensorFlow|             Node.js|                      Github|             Jira;Github|      Yes|            Neutral|      Very important|Having a bad day ...|Personal network ...|Once every few years|   Not sure|                  No|           No|Often: 1-2 days p...|                NULL|Hello, old friend|Stack Overflow (p...|Meditate;Call a c...|    Windows|100 to 499 employees|                  NULL|Heroku;Linux;Windows|I have little or ...|Straight / Hetero...|      Yes|  Yes, somewhat|A few times per m...|Multiple times pe...|                Easy|           Too short|   No|Another engineeri...|                Spring|   Angular.js;Spring|Just as welcome n...|       50.0|       22|          17|\n",
      "+----------+--------------------+--------+----+----------+--------+---------+-------------+------------------+--------------------+--------------+----------------------+--------------------+--------------------+--------------------+--------------------+--------------------+------+--------------------+--------------------+--------------------+----------------------+--------------------+----------------------+--------------------+----------------------------+------------------------+---------+-------------------+--------------------+--------------------+--------------------+--------------------+-----------+--------------------+-------------+--------------------+--------------------+-----------------+--------------------+--------------------+-----------+--------------------+----------------------+--------------------+--------------------+--------------------+---------+---------------+--------------------+--------------------+--------------------+--------------------+-----+--------------------+----------------------+--------------------+--------------------+-----------+---------+------------+\n",
      "only showing top 20 rows\n",
      "\n"
     ]
    }
   ],
   "source": [
    "spark.sql(f\"select * from {table_name}\").show()"
   ]
  },
  {
   "cell_type": "markdown",
   "metadata": {},
   "source": [
    "## Biblioteka Pandas\n",
    "\n",
    "https://pandas.pydata.org/\n",
    "\n",
    "Moduł Pandas jest biblioteką Pythonową do manipulacji danymi. W szczegolnosci w pandas mozemy stworzyc ramki danych i wykonywac na niej analize, agregacje oraz wizualizacje danych. \n",
    "Przy nieduzych zbiorach danych i prostych operacjach to doskonała biblioteka. Jednak kiedy zbior danych sie rozrasta lub kiedy wymagane sa zlozone transformacje to operacje moga byc wolne.\n",
    "\n",
    "Operacje na rozproszonych danych sa szybsze. Ale tu takze napotykamy ograniczenia np trudność w wizualizacji danych."
   ]
  },
  {
   "cell_type": "code",
   "execution_count": 28,
   "metadata": {
    "tags": []
   },
   "outputs": [],
   "source": [
    "import pandas as pd"
   ]
  },
  {
   "cell_type": "code",
   "execution_count": 29,
   "metadata": {
    "tags": []
   },
   "outputs": [
    {
     "data": {
      "text/html": [
       "<div>\n",
       "<style scoped>\n",
       "    .dataframe tbody tr th:only-of-type {\n",
       "        vertical-align: middle;\n",
       "    }\n",
       "\n",
       "    .dataframe tbody tr th {\n",
       "        vertical-align: top;\n",
       "    }\n",
       "\n",
       "    .dataframe thead th {\n",
       "        text-align: right;\n",
       "    }\n",
       "</style>\n",
       "<table border=\"1\" class=\"dataframe\">\n",
       "  <thead>\n",
       "    <tr style=\"text-align: right;\">\n",
       "      <th></th>\n",
       "      <th>Respondent</th>\n",
       "      <th>MainBranch</th>\n",
       "      <th>Hobbyist</th>\n",
       "      <th>Age</th>\n",
       "      <th>Age1stCode</th>\n",
       "      <th>CompFreq</th>\n",
       "      <th>CompTotal</th>\n",
       "      <th>ConvertedComp</th>\n",
       "      <th>Country</th>\n",
       "      <th>CurrencyDesc</th>\n",
       "      <th>...</th>\n",
       "      <th>SurveyEase</th>\n",
       "      <th>SurveyLength</th>\n",
       "      <th>Trans</th>\n",
       "      <th>UndergradMajor</th>\n",
       "      <th>WebframeDesireNextYear</th>\n",
       "      <th>WebframeWorkedWith</th>\n",
       "      <th>WelcomeChange</th>\n",
       "      <th>WorkWeekHrs</th>\n",
       "      <th>YearsCode</th>\n",
       "      <th>YearsCodePro</th>\n",
       "    </tr>\n",
       "  </thead>\n",
       "  <tbody>\n",
       "    <tr>\n",
       "      <th>0</th>\n",
       "      <td>1</td>\n",
       "      <td>I am a developer by profession</td>\n",
       "      <td>Yes</td>\n",
       "      <td>NaN</td>\n",
       "      <td>13</td>\n",
       "      <td>Monthly</td>\n",
       "      <td>NaN</td>\n",
       "      <td>NaN</td>\n",
       "      <td>Germany</td>\n",
       "      <td>European Euro</td>\n",
       "      <td>...</td>\n",
       "      <td>Neither easy nor difficult</td>\n",
       "      <td>Appropriate in length</td>\n",
       "      <td>No</td>\n",
       "      <td>Computer science, computer engineering, or sof...</td>\n",
       "      <td>ASP.NET Core</td>\n",
       "      <td>ASP.NET;ASP.NET Core</td>\n",
       "      <td>Just as welcome now as I felt last year</td>\n",
       "      <td>50.0</td>\n",
       "      <td>36</td>\n",
       "      <td>27</td>\n",
       "    </tr>\n",
       "    <tr>\n",
       "      <th>1</th>\n",
       "      <td>2</td>\n",
       "      <td>I am a developer by profession</td>\n",
       "      <td>No</td>\n",
       "      <td>NaN</td>\n",
       "      <td>19</td>\n",
       "      <td>None</td>\n",
       "      <td>NaN</td>\n",
       "      <td>NaN</td>\n",
       "      <td>United Kingdom</td>\n",
       "      <td>Pound sterling</td>\n",
       "      <td>...</td>\n",
       "      <td>None</td>\n",
       "      <td>None</td>\n",
       "      <td>None</td>\n",
       "      <td>Computer science, computer engineering, or sof...</td>\n",
       "      <td>None</td>\n",
       "      <td>None</td>\n",
       "      <td>Somewhat more welcome now than last year</td>\n",
       "      <td>NaN</td>\n",
       "      <td>7</td>\n",
       "      <td>4</td>\n",
       "    </tr>\n",
       "    <tr>\n",
       "      <th>2</th>\n",
       "      <td>3</td>\n",
       "      <td>I code primarily as a hobby</td>\n",
       "      <td>Yes</td>\n",
       "      <td>NaN</td>\n",
       "      <td>15</td>\n",
       "      <td>None</td>\n",
       "      <td>NaN</td>\n",
       "      <td>NaN</td>\n",
       "      <td>Russian Federation</td>\n",
       "      <td>None</td>\n",
       "      <td>...</td>\n",
       "      <td>Neither easy nor difficult</td>\n",
       "      <td>Appropriate in length</td>\n",
       "      <td>None</td>\n",
       "      <td>None</td>\n",
       "      <td>None</td>\n",
       "      <td>None</td>\n",
       "      <td>Somewhat more welcome now than last year</td>\n",
       "      <td>NaN</td>\n",
       "      <td>4</td>\n",
       "      <td>None</td>\n",
       "    </tr>\n",
       "    <tr>\n",
       "      <th>3</th>\n",
       "      <td>4</td>\n",
       "      <td>I am a developer by profession</td>\n",
       "      <td>Yes</td>\n",
       "      <td>25.0</td>\n",
       "      <td>18</td>\n",
       "      <td>None</td>\n",
       "      <td>NaN</td>\n",
       "      <td>NaN</td>\n",
       "      <td>Albania</td>\n",
       "      <td>Albanian lek</td>\n",
       "      <td>...</td>\n",
       "      <td>None</td>\n",
       "      <td>None</td>\n",
       "      <td>No</td>\n",
       "      <td>Computer science, computer engineering, or sof...</td>\n",
       "      <td>None</td>\n",
       "      <td>None</td>\n",
       "      <td>Somewhat less welcome now than last year</td>\n",
       "      <td>40.0</td>\n",
       "      <td>7</td>\n",
       "      <td>4</td>\n",
       "    </tr>\n",
       "    <tr>\n",
       "      <th>4</th>\n",
       "      <td>5</td>\n",
       "      <td>I used to be a developer by profession, but no...</td>\n",
       "      <td>Yes</td>\n",
       "      <td>31.0</td>\n",
       "      <td>16</td>\n",
       "      <td>None</td>\n",
       "      <td>NaN</td>\n",
       "      <td>NaN</td>\n",
       "      <td>United States</td>\n",
       "      <td>None</td>\n",
       "      <td>...</td>\n",
       "      <td>Easy</td>\n",
       "      <td>Too short</td>\n",
       "      <td>No</td>\n",
       "      <td>Computer science, computer engineering, or sof...</td>\n",
       "      <td>Django;Ruby on Rails</td>\n",
       "      <td>Ruby on Rails</td>\n",
       "      <td>Just as welcome now as I felt last year</td>\n",
       "      <td>NaN</td>\n",
       "      <td>15</td>\n",
       "      <td>8</td>\n",
       "    </tr>\n",
       "    <tr>\n",
       "      <th>5</th>\n",
       "      <td>6</td>\n",
       "      <td>I am a developer by profession</td>\n",
       "      <td>No</td>\n",
       "      <td>NaN</td>\n",
       "      <td>14</td>\n",
       "      <td>None</td>\n",
       "      <td>NaN</td>\n",
       "      <td>NaN</td>\n",
       "      <td>Germany</td>\n",
       "      <td>European Euro</td>\n",
       "      <td>...</td>\n",
       "      <td>Neither easy nor difficult</td>\n",
       "      <td>Appropriate in length</td>\n",
       "      <td>None</td>\n",
       "      <td>None</td>\n",
       "      <td>React.js</td>\n",
       "      <td>None</td>\n",
       "      <td>None</td>\n",
       "      <td>NaN</td>\n",
       "      <td>6</td>\n",
       "      <td>4</td>\n",
       "    </tr>\n",
       "    <tr>\n",
       "      <th>6</th>\n",
       "      <td>7</td>\n",
       "      <td>I am a developer by profession</td>\n",
       "      <td>Yes</td>\n",
       "      <td>NaN</td>\n",
       "      <td>18</td>\n",
       "      <td>Monthly</td>\n",
       "      <td>NaN</td>\n",
       "      <td>NaN</td>\n",
       "      <td>India</td>\n",
       "      <td>United States dollar</td>\n",
       "      <td>...</td>\n",
       "      <td>None</td>\n",
       "      <td>None</td>\n",
       "      <td>None</td>\n",
       "      <td>Computer science, computer engineering, or sof...</td>\n",
       "      <td>None</td>\n",
       "      <td>None</td>\n",
       "      <td>A lot more welcome now than last year</td>\n",
       "      <td>NaN</td>\n",
       "      <td>6</td>\n",
       "      <td>4</td>\n",
       "    </tr>\n",
       "    <tr>\n",
       "      <th>7</th>\n",
       "      <td>8</td>\n",
       "      <td>I am a developer by profession</td>\n",
       "      <td>Yes</td>\n",
       "      <td>36.0</td>\n",
       "      <td>12</td>\n",
       "      <td>Yearly</td>\n",
       "      <td>116000.0</td>\n",
       "      <td>116000.0</td>\n",
       "      <td>United States</td>\n",
       "      <td>United States dollar</td>\n",
       "      <td>...</td>\n",
       "      <td>Easy</td>\n",
       "      <td>Appropriate in length</td>\n",
       "      <td>No</td>\n",
       "      <td>Computer science, computer engineering, or sof...</td>\n",
       "      <td>Django;React.js;Vue.js</td>\n",
       "      <td>Flask</td>\n",
       "      <td>Just as welcome now as I felt last year</td>\n",
       "      <td>39.0</td>\n",
       "      <td>17</td>\n",
       "      <td>13</td>\n",
       "    </tr>\n",
       "    <tr>\n",
       "      <th>8</th>\n",
       "      <td>9</td>\n",
       "      <td>I am a developer by profession</td>\n",
       "      <td>No</td>\n",
       "      <td>30.0</td>\n",
       "      <td>20</td>\n",
       "      <td>None</td>\n",
       "      <td>NaN</td>\n",
       "      <td>NaN</td>\n",
       "      <td>Tunisia</td>\n",
       "      <td>United States dollar</td>\n",
       "      <td>...</td>\n",
       "      <td>Neither easy nor difficult</td>\n",
       "      <td>Appropriate in length</td>\n",
       "      <td>No</td>\n",
       "      <td>Computer science, computer engineering, or sof...</td>\n",
       "      <td>Angular.js</td>\n",
       "      <td>jQuery</td>\n",
       "      <td>Just as welcome now as I felt last year</td>\n",
       "      <td>50.0</td>\n",
       "      <td>6</td>\n",
       "      <td>4</td>\n",
       "    </tr>\n",
       "    <tr>\n",
       "      <th>9</th>\n",
       "      <td>10</td>\n",
       "      <td>I am a developer by profession</td>\n",
       "      <td>Yes</td>\n",
       "      <td>22.0</td>\n",
       "      <td>14</td>\n",
       "      <td>Yearly</td>\n",
       "      <td>25000.0</td>\n",
       "      <td>32315.0</td>\n",
       "      <td>United Kingdom</td>\n",
       "      <td>Pound sterling</td>\n",
       "      <td>...</td>\n",
       "      <td>Easy</td>\n",
       "      <td>Appropriate in length</td>\n",
       "      <td>No</td>\n",
       "      <td>Mathematics or statistics</td>\n",
       "      <td>Flask;jQuery</td>\n",
       "      <td>Flask;jQuery</td>\n",
       "      <td>Somewhat more welcome now than last year</td>\n",
       "      <td>36.0</td>\n",
       "      <td>8</td>\n",
       "      <td>4</td>\n",
       "    </tr>\n",
       "  </tbody>\n",
       "</table>\n",
       "<p>10 rows × 61 columns</p>\n",
       "</div>"
      ],
      "text/plain": [
       "   Respondent                                         MainBranch Hobbyist  \\\n",
       "0           1                     I am a developer by profession      Yes   \n",
       "1           2                     I am a developer by profession       No   \n",
       "2           3                        I code primarily as a hobby      Yes   \n",
       "3           4                     I am a developer by profession      Yes   \n",
       "4           5  I used to be a developer by profession, but no...      Yes   \n",
       "5           6                     I am a developer by profession       No   \n",
       "6           7                     I am a developer by profession      Yes   \n",
       "7           8                     I am a developer by profession      Yes   \n",
       "8           9                     I am a developer by profession       No   \n",
       "9          10                     I am a developer by profession      Yes   \n",
       "\n",
       "    Age Age1stCode CompFreq  CompTotal  ConvertedComp             Country  \\\n",
       "0   NaN         13  Monthly        NaN            NaN             Germany   \n",
       "1   NaN         19     None        NaN            NaN      United Kingdom   \n",
       "2   NaN         15     None        NaN            NaN  Russian Federation   \n",
       "3  25.0         18     None        NaN            NaN             Albania   \n",
       "4  31.0         16     None        NaN            NaN       United States   \n",
       "5   NaN         14     None        NaN            NaN             Germany   \n",
       "6   NaN         18  Monthly        NaN            NaN               India   \n",
       "7  36.0         12   Yearly   116000.0       116000.0       United States   \n",
       "8  30.0         20     None        NaN            NaN             Tunisia   \n",
       "9  22.0         14   Yearly    25000.0        32315.0      United Kingdom   \n",
       "\n",
       "           CurrencyDesc  ...                  SurveyEase  \\\n",
       "0         European Euro  ...  Neither easy nor difficult   \n",
       "1        Pound sterling  ...                        None   \n",
       "2                  None  ...  Neither easy nor difficult   \n",
       "3          Albanian lek  ...                        None   \n",
       "4                  None  ...                        Easy   \n",
       "5         European Euro  ...  Neither easy nor difficult   \n",
       "6  United States dollar  ...                        None   \n",
       "7  United States dollar  ...                        Easy   \n",
       "8  United States dollar  ...  Neither easy nor difficult   \n",
       "9        Pound sterling  ...                        Easy   \n",
       "\n",
       "            SurveyLength Trans  \\\n",
       "0  Appropriate in length    No   \n",
       "1                   None  None   \n",
       "2  Appropriate in length  None   \n",
       "3                   None    No   \n",
       "4              Too short    No   \n",
       "5  Appropriate in length  None   \n",
       "6                   None  None   \n",
       "7  Appropriate in length    No   \n",
       "8  Appropriate in length    No   \n",
       "9  Appropriate in length    No   \n",
       "\n",
       "                                      UndergradMajor  WebframeDesireNextYear  \\\n",
       "0  Computer science, computer engineering, or sof...            ASP.NET Core   \n",
       "1  Computer science, computer engineering, or sof...                    None   \n",
       "2                                               None                    None   \n",
       "3  Computer science, computer engineering, or sof...                    None   \n",
       "4  Computer science, computer engineering, or sof...    Django;Ruby on Rails   \n",
       "5                                               None                React.js   \n",
       "6  Computer science, computer engineering, or sof...                    None   \n",
       "7  Computer science, computer engineering, or sof...  Django;React.js;Vue.js   \n",
       "8  Computer science, computer engineering, or sof...              Angular.js   \n",
       "9                          Mathematics or statistics            Flask;jQuery   \n",
       "\n",
       "     WebframeWorkedWith                             WelcomeChange WorkWeekHrs  \\\n",
       "0  ASP.NET;ASP.NET Core   Just as welcome now as I felt last year        50.0   \n",
       "1                  None  Somewhat more welcome now than last year         NaN   \n",
       "2                  None  Somewhat more welcome now than last year         NaN   \n",
       "3                  None  Somewhat less welcome now than last year        40.0   \n",
       "4         Ruby on Rails   Just as welcome now as I felt last year         NaN   \n",
       "5                  None                                      None         NaN   \n",
       "6                  None     A lot more welcome now than last year         NaN   \n",
       "7                 Flask   Just as welcome now as I felt last year        39.0   \n",
       "8                jQuery   Just as welcome now as I felt last year        50.0   \n",
       "9          Flask;jQuery  Somewhat more welcome now than last year        36.0   \n",
       "\n",
       "  YearsCode YearsCodePro  \n",
       "0        36           27  \n",
       "1         7            4  \n",
       "2         4         None  \n",
       "3         7            4  \n",
       "4        15            8  \n",
       "5         6            4  \n",
       "6         6            4  \n",
       "7        17           13  \n",
       "8         6            4  \n",
       "9         8            4  \n",
       "\n",
       "[10 rows x 61 columns]"
      ]
     },
     "execution_count": 29,
     "metadata": {},
     "output_type": "execute_result"
    }
   ],
   "source": [
    "spark.sql(f\"select * from {table_name} limit 10\").toPandas()"
   ]
  },
  {
   "cell_type": "markdown",
   "metadata": {},
   "source": [
    "**Ważne** \n",
    "\n",
    "Metoda toPandas() na ramce pyspark, konwertuje ramkę pyspark do ramki pandas. Wykonuje akcje pobrania (collect) wszystkich danych z executorów (z JVM) i transfer do  programu sterujacego (driver) i konwersje do typu Pythonowego w notatniku. Ze względu na ograniczenia pamięciowe w programie sterującym należy to wykonywać na podzbiorach danych.\n",
    "\n",
    "**DataFrame.collect() collects the distributed data to the driver side as the local data in Python. Note that this can throw an out-of-memory error when the dataset is too large to fit in the driver side because it collects all the data from executors to the driver side.**\n",
    "\n",
    "**Note that DataFrame.toPandas() results in the collection of all records in the DataFrame to the driver program and should be done on a small subset of the data.**"
   ]
  },
  {
   "cell_type": "code",
   "execution_count": 30,
   "metadata": {
    "tags": []
   },
   "outputs": [],
   "source": [
    "dist_df = spark.sql(f\"select * from {table_name} LIMIT 10\")\n",
    "local_df = spark.sql(f\"select * from {table_name} LIMIT 10\").toPandas()"
   ]
  },
  {
   "cell_type": "code",
   "execution_count": 31,
   "metadata": {
    "tags": []
   },
   "outputs": [
    {
     "data": {
      "text/plain": [
       "pyspark.sql.dataframe.DataFrame"
      ]
     },
     "execution_count": 31,
     "metadata": {},
     "output_type": "execute_result"
    }
   ],
   "source": [
    "type(dist_df)  # dataframe Sparkowy (\"przepis na dane, rozproszony, leniwy\")"
   ]
  },
  {
   "cell_type": "code",
   "execution_count": 33,
   "metadata": {
    "tags": []
   },
   "outputs": [
    {
     "data": {
      "text/plain": [
       "pandas.core.frame.DataFrame"
      ]
     },
     "execution_count": 33,
     "metadata": {},
     "output_type": "execute_result"
    }
   ],
   "source": [
    "type(local_df)  # dataframe Pandasowy (lokalny, sciągnięty do pamięci operacyjnej)"
   ]
  },
  {
   "cell_type": "code",
   "execution_count": 34,
   "metadata": {
    "tags": []
   },
   "outputs": [
    {
     "name": "stdout",
     "output_type": "stream",
     "text": [
      "+----------+--------------------+--------+----+----------+--------+---------+-------------+------------------+--------------------+--------------+----------------------+--------------------+--------------------+--------------------+--------------------+--------------------+------+--------------------+--------------------+--------------------+----------------------+--------------------+----------------------+------------------+----------------------------+------------------------+---------+-------------------+--------------------+--------------------+--------------------+----------------+-----------+--------------------+-------------+--------------------+--------------------+-----------------+--------------------+--------------------+-----------+--------------------+----------------------+--------------------+--------------------+--------------------+---------+---------------+--------------------+--------------------+--------------------+--------------------+-----+--------------------+----------------------+--------------------+--------------------+-----------+---------+------------+\n",
      "|Respondent|          MainBranch|Hobbyist| Age|Age1stCode|CompFreq|CompTotal|ConvertedComp|           Country|        CurrencyDesc|CurrencySymbol|DatabaseDesireNextYear|  DatabaseWorkedWith|             DevType|             EdLevel|          Employment|           Ethnicity|Gender|          JobFactors|              JobSat|             JobSeek|LanguageDesireNextYear|  LanguageWorkedWith|MiscTechDesireNextYear|MiscTechWorkedWith|NEWCollabToolsDesireNextYear|NEWCollabToolsWorkedWith|NEWDevOps|      NEWDevOpsImpt|           NEWEdImpt|          NEWJobHunt|  NEWJobHuntResearch|        NEWLearn|NEWOffTopic|      NEWOnboardGood|NEWOtherComms|         NEWOvertime| NEWPurchaseResearch|    NEWPurpleLink|          NEWSOSites|            NEWStuck|      OpSys|             OrgSize|PlatformDesireNextYear|  PlatformWorkedWith|        PurchaseWhat|           Sexuality|SOAccount|         SOComm|          SOPartFreq|         SOVisitFreq|          SurveyEase|        SurveyLength|Trans|      UndergradMajor|WebframeDesireNextYear|  WebframeWorkedWith|       WelcomeChange|WorkWeekHrs|YearsCode|YearsCodePro|\n",
      "+----------+--------------------+--------+----+----------+--------+---------+-------------+------------------+--------------------+--------------+----------------------+--------------------+--------------------+--------------------+--------------------+--------------------+------+--------------------+--------------------+--------------------+----------------------+--------------------+----------------------+------------------+----------------------------+------------------------+---------+-------------------+--------------------+--------------------+--------------------+----------------+-----------+--------------------+-------------+--------------------+--------------------+-----------------+--------------------+--------------------+-----------+--------------------+----------------------+--------------------+--------------------+--------------------+---------+---------------+--------------------+--------------------+--------------------+--------------------+-----+--------------------+----------------------+--------------------+--------------------+-----------+---------+------------+\n",
      "|         1|I am a developer ...|     Yes|NULL|        13| Monthly|     NULL|         NULL|           Germany|       European Euro|           EUR|  Microsoft SQL Server|Elasticsearch;Mic...|Developer, deskto...|Master’s degree (...|Independent contr...|White or of Europ...|   Man|Languages, framew...|  Slightly satisfied|I am not interest...|  C#;HTML/CSS;JavaS...|C#;HTML/CSS;JavaS...|     .NET Core;Xamarin|    .NET;.NET Core|        Microsoft Teams;M...|    Confluence;Jira;S...|       No| Somewhat important|    Fairly important|                NULL|                NULL|     Once a year|   Not sure|                NULL|           No|Often: 1-2 days p...|Start a free tria...|           Amused|Stack Overflow (p...|Visit Stack Overf...|    Windows|    2 to 9 employees|  Android;iOS;Kuber...|             Windows|                NULL|Straight / Hetero...|       No| No, not at all|                NULL|Multiple times pe...|Neither easy nor ...|Appropriate in le...|   No|Computer science,...|          ASP.NET Core|ASP.NET;ASP.NET Core|Just as welcome n...|       50.0|       36|          27|\n",
      "|         2|I am a developer ...|      No|NULL|        19|    NULL|     NULL|         NULL|    United Kingdom|      Pound sterling|           GBP|                  NULL|                NULL|Developer, full-s...|Bachelor’s degree...|  Employed full-time|                NULL|  NULL|                NULL|   Very dissatisfied|I am not interest...|          Python;Swift|    JavaScript;Swift|  React Native;Tens...|      React Native|                Github;Slack|    Confluence;Jira;G...|     NULL|               NULL|    Fairly important|                NULL|                NULL|     Once a year|   Not sure|                NULL|           No|                NULL|                NULL|           Amused|Stack Overflow (p...|Visit Stack Overf...|      MacOS|1,000 to 4,999 em...|  iOS;Kubernetes;Li...|                 iOS|I have little or ...|                NULL|      Yes|Yes, definitely|Less than once pe...|Multiple times pe...|                NULL|                NULL| NULL|Computer science,...|                  NULL|                NULL|Somewhat more wel...|       NULL|        7|           4|\n",
      "|         3|I code primarily ...|     Yes|NULL|        15|    NULL|     NULL|         NULL|Russian Federation|                NULL|          NULL|                  NULL|                NULL|                NULL|                NULL|                NULL|                NULL|  NULL|                NULL|                NULL|                NULL|  Objective-C;Pytho...|Objective-C;Pytho...|                  NULL|              NULL|                        NULL|                    NULL|     NULL|               NULL|                NULL|                NULL|                NULL|   Once a decade|       NULL|                NULL|           No|                NULL|                NULL|             NULL|Stack Overflow (p...|                NULL|Linux-based|                NULL|                  NULL|                NULL|                NULL|                NULL|      Yes|  Yes, somewhat|A few times per m...|Daily or almost d...|Neither easy nor ...|Appropriate in le...| NULL|                NULL|                  NULL|                NULL|Somewhat more wel...|       NULL|        4|        NULL|\n",
      "|         4|I am a developer ...|     Yes|25.0|        18|    NULL|     NULL|         NULL|           Albania|        Albanian lek|           ALL|                  NULL|                NULL|                NULL|Master’s degree (...|                NULL|White or of Europ...|   Man|Flex time or a fl...|Slightly dissatis...|I’m not actively ...|                  NULL|                NULL|                  NULL|              NULL|                        NULL|                    NULL|       No|               NULL|Not at all import...|Curious about oth...|                NULL|     Once a year|   Not sure|                 Yes|          Yes|Occasionally: 1-2...|                NULL|             NULL|Stack Overflow (p...|                NULL|Linux-based|  20 to 99 employees|                  NULL|                NULL|I have a great de...|Straight / Hetero...|      Yes|Yes, definitely|A few times per m...|Multiple times pe...|                NULL|                NULL|   No|Computer science,...|                  NULL|                NULL|Somewhat less wel...|       40.0|        7|           4|\n",
      "|         5|I used to be a de...|     Yes|31.0|        16|    NULL|     NULL|         NULL|     United States|                NULL|          NULL|      MySQL;PostgreSQL|MySQL;PostgreSQL;...|                NULL|Bachelor’s degree...|  Employed full-time|White or of Europ...|   Man|                NULL|                NULL|                NULL|       Java;Ruby;Scala|   HTML/CSS;Ruby;SQL|          Ansible;Chef|           Ansible|        Github;Google Sui...|    Confluence;Jira;G...|     NULL|               NULL|      Very important|                NULL|                NULL|     Once a year|         No|                NULL|          Yes|                NULL|Start a free tria...|Hello, old friend|Stack Overflow (p...|Call a coworker o...|    Windows|                NULL|  Docker;Google Clo...|AWS;Docker;Linux;...|                NULL|Straight / Hetero...|      Yes|  Yes, somewhat|Less than once pe...|A few times per m...|                Easy|           Too short|   No|Computer science,...|  Django;Ruby on Rails|       Ruby on Rails|Just as welcome n...|       NULL|       15|           8|\n",
      "|         6|I am a developer ...|      No|NULL|        14|    NULL|     NULL|         NULL|           Germany|       European Euro|           EUR|                  NULL|                NULL|Designer;Develope...|Secondary school ...|  Employed full-time|White or of Europ...|   Man|Diversity of the ...|  Slightly satisfied|I am not interest...|  HTML/CSS;Java;Jav...|HTML/CSS;Java;Jav...|                  NULL|              NULL|                Github;Slack|    Confluence;Github...| Not sure|               NULL|    Fairly important|                NULL|                NULL|     Once a year|         No|                  No|           No|               Never|Ask developers I ...|           Amused|Stack Overflow (p...|Play games;Visit ...|    Windows|                NULL|               Android|Android;Docker;Wo...|I have some influ...|Straight / Hetero...|      Yes|  Yes, somewhat|A few times per m...|A few times per week|Neither easy nor ...|Appropriate in le...| NULL|                NULL|              React.js|                NULL|                NULL|       NULL|        6|           4|\n",
      "|         7|I am a developer ...|     Yes|NULL|        18| Monthly|     NULL|         NULL|             India|United States dollar|           USD|                  NULL|                NULL|Developer, back-e...|Bachelor’s degree...|  Employed full-time|                NULL|  NULL|                NULL|      Very satisfied|I’m not actively ...|       C#;HTML/CSS;PHP|     C#;HTML/CSS;PHP|                  NULL|              NULL|                        NULL|                    NULL|      Yes|Extremely important|      Very important|Better compensati...|Read company medi...|Every few months|        Yes|                 Yes|           No|Sometimes: 1-2 da...|Start a free tria...|             NULL|Stack Overflow (p...|                NULL|    Windows|  20 to 99 employees|                  NULL|                NULL|                NULL|                NULL|      Yes|Yes, definitely|Multiple times pe...|Multiple times pe...|                NULL|                NULL| NULL|Computer science,...|                  NULL|                NULL|A lot more welcom...|       NULL|        6|           4|\n",
      "|         8|I am a developer ...|     Yes|36.0|        12|  Yearly| 116000.0|     116000.0|     United States|United States dollar|           USD|               MongoDB| MariaDB;MySQL;Redis|Developer, back-e...|Bachelor’s degree...|  Employed full-time|White or of Europ...|   Man|Remote work optio...|Slightly dissatis...|I’m not actively ...|            JavaScript|          Python;SQL|              Unity 3D|           Ansible|                        NULL|    Confluence;Jira;G...|      Yes|Extremely important|Not at all import...|Curious about oth...|Read company medi...|     Once a year|   Not sure|                 Yes|           No|Occasionally: 1-2...|Start a free tria...|Hello, old friend|Stack Overflow (p...|Play games;Call a...|Linux-based|  20 to 99 employees|  iOS;Slack Apps an...|              Docker|I have some influ...|Straight / Hetero...|      Yes| No, not really|Less than once pe...|Multiple times pe...|                Easy|Appropriate in le...|   No|Computer science,...|  Django;React.js;V...|               Flask|Just as welcome n...|       39.0|       17|          13|\n",
      "|         9|I am a developer ...|      No|30.0|        20|    NULL|     NULL|         NULL|           Tunisia|United States dollar|           USD|                  NULL|                NULL|Developer, full-s...|Professional degr...|Independent contr...|                NULL|   Man|Diversity of the ...|   Very dissatisfied|I’m not actively ...|           Python;Rust|HTML/CSS;JavaScri...|                  NULL|              NULL|                        NULL|    Github;Slack;Trel...|     NULL|               NULL|      Very important|Curious about oth...|                NULL|     Once a year|         No|                 Yes|           No|Occasionally: 1-2...|  Start a free trial|Hello, old friend|Stack Overflow (p...|            Meditate|    Windows|Just me - I am a ...|                  NULL|           WordPress|                NULL|Straight / Hetero...|      Yes|Yes, definitely|Multiple times pe...|Multiple times pe...|Neither easy nor ...|Appropriate in le...|   No|Computer science,...|            Angular.js|              jQuery|Just as welcome n...|       50.0|        6|           4|\n",
      "|        10|I am a developer ...|     Yes|22.0|        14|  Yearly|  25000.0|      32315.0|    United Kingdom|      Pound sterling|           GBP|  Microsoft SQL Server|Microsoft SQL Server|Database administ...|Master’s degree (...|  Employed full-time|White or of Europ...|   Man|Flex time or a fl...|      Very satisfied|I’m not actively ...|  HTML/CSS;Java;Jav...|HTML/CSS;Java;Jav...|     Pandas;TensorFlow|            Pandas|        Github;Microsoft ...|    Github;Microsoft ...|       No|            Neutral|    Fairly important|Curious about oth...|Company reviews f...|Every few months|        Yes|Onboarding? What ...|           No|Often: 1-2 days p...|Start a free tria...|Hello, old friend|Stack Overflow (p...|Visit Stack Overflow|    Windows|    2 to 9 employees|  Android;Linux;Ras...|Android;Linux;Ras...|I have a great de...|Straight / Hetero...|      Yes|Yes, definitely|Multiple times pe...|Multiple times pe...|                Easy|Appropriate in le...|   No|Mathematics or st...|          Flask;jQuery|        Flask;jQuery|Somewhat more wel...|       36.0|        8|           4|\n",
      "+----------+--------------------+--------+----+----------+--------+---------+-------------+------------------+--------------------+--------------+----------------------+--------------------+--------------------+--------------------+--------------------+--------------------+------+--------------------+--------------------+--------------------+----------------------+--------------------+----------------------+------------------+----------------------------+------------------------+---------+-------------------+--------------------+--------------------+--------------------+----------------+-----------+--------------------+-------------+--------------------+--------------------+-----------------+--------------------+--------------------+-----------+--------------------+----------------------+--------------------+--------------------+--------------------+---------+---------------+--------------------+--------------------+--------------------+--------------------+-----+--------------------+----------------------+--------------------+--------------------+-----------+---------+------------+\n",
      "\n"
     ]
    }
   ],
   "source": [
    "dist_df.show()"
   ]
  },
  {
   "cell_type": "code",
   "execution_count": 35,
   "metadata": {
    "tags": []
   },
   "outputs": [
    {
     "data": {
      "text/html": [
       "<div>\n",
       "<style scoped>\n",
       "    .dataframe tbody tr th:only-of-type {\n",
       "        vertical-align: middle;\n",
       "    }\n",
       "\n",
       "    .dataframe tbody tr th {\n",
       "        vertical-align: top;\n",
       "    }\n",
       "\n",
       "    .dataframe thead th {\n",
       "        text-align: right;\n",
       "    }\n",
       "</style>\n",
       "<table border=\"1\" class=\"dataframe\">\n",
       "  <thead>\n",
       "    <tr style=\"text-align: right;\">\n",
       "      <th></th>\n",
       "      <th>Respondent</th>\n",
       "      <th>MainBranch</th>\n",
       "      <th>Hobbyist</th>\n",
       "      <th>Age</th>\n",
       "      <th>Age1stCode</th>\n",
       "      <th>CompFreq</th>\n",
       "      <th>CompTotal</th>\n",
       "      <th>ConvertedComp</th>\n",
       "      <th>Country</th>\n",
       "      <th>CurrencyDesc</th>\n",
       "      <th>...</th>\n",
       "      <th>SurveyEase</th>\n",
       "      <th>SurveyLength</th>\n",
       "      <th>Trans</th>\n",
       "      <th>UndergradMajor</th>\n",
       "      <th>WebframeDesireNextYear</th>\n",
       "      <th>WebframeWorkedWith</th>\n",
       "      <th>WelcomeChange</th>\n",
       "      <th>WorkWeekHrs</th>\n",
       "      <th>YearsCode</th>\n",
       "      <th>YearsCodePro</th>\n",
       "    </tr>\n",
       "  </thead>\n",
       "  <tbody>\n",
       "    <tr>\n",
       "      <th>0</th>\n",
       "      <td>1</td>\n",
       "      <td>I am a developer by profession</td>\n",
       "      <td>Yes</td>\n",
       "      <td>NaN</td>\n",
       "      <td>13</td>\n",
       "      <td>Monthly</td>\n",
       "      <td>NaN</td>\n",
       "      <td>NaN</td>\n",
       "      <td>Germany</td>\n",
       "      <td>European Euro</td>\n",
       "      <td>...</td>\n",
       "      <td>Neither easy nor difficult</td>\n",
       "      <td>Appropriate in length</td>\n",
       "      <td>No</td>\n",
       "      <td>Computer science, computer engineering, or sof...</td>\n",
       "      <td>ASP.NET Core</td>\n",
       "      <td>ASP.NET;ASP.NET Core</td>\n",
       "      <td>Just as welcome now as I felt last year</td>\n",
       "      <td>50.0</td>\n",
       "      <td>36</td>\n",
       "      <td>27</td>\n",
       "    </tr>\n",
       "    <tr>\n",
       "      <th>1</th>\n",
       "      <td>2</td>\n",
       "      <td>I am a developer by profession</td>\n",
       "      <td>No</td>\n",
       "      <td>NaN</td>\n",
       "      <td>19</td>\n",
       "      <td>None</td>\n",
       "      <td>NaN</td>\n",
       "      <td>NaN</td>\n",
       "      <td>United Kingdom</td>\n",
       "      <td>Pound sterling</td>\n",
       "      <td>...</td>\n",
       "      <td>None</td>\n",
       "      <td>None</td>\n",
       "      <td>None</td>\n",
       "      <td>Computer science, computer engineering, or sof...</td>\n",
       "      <td>None</td>\n",
       "      <td>None</td>\n",
       "      <td>Somewhat more welcome now than last year</td>\n",
       "      <td>NaN</td>\n",
       "      <td>7</td>\n",
       "      <td>4</td>\n",
       "    </tr>\n",
       "    <tr>\n",
       "      <th>2</th>\n",
       "      <td>3</td>\n",
       "      <td>I code primarily as a hobby</td>\n",
       "      <td>Yes</td>\n",
       "      <td>NaN</td>\n",
       "      <td>15</td>\n",
       "      <td>None</td>\n",
       "      <td>NaN</td>\n",
       "      <td>NaN</td>\n",
       "      <td>Russian Federation</td>\n",
       "      <td>None</td>\n",
       "      <td>...</td>\n",
       "      <td>Neither easy nor difficult</td>\n",
       "      <td>Appropriate in length</td>\n",
       "      <td>None</td>\n",
       "      <td>None</td>\n",
       "      <td>None</td>\n",
       "      <td>None</td>\n",
       "      <td>Somewhat more welcome now than last year</td>\n",
       "      <td>NaN</td>\n",
       "      <td>4</td>\n",
       "      <td>None</td>\n",
       "    </tr>\n",
       "    <tr>\n",
       "      <th>3</th>\n",
       "      <td>4</td>\n",
       "      <td>I am a developer by profession</td>\n",
       "      <td>Yes</td>\n",
       "      <td>25.0</td>\n",
       "      <td>18</td>\n",
       "      <td>None</td>\n",
       "      <td>NaN</td>\n",
       "      <td>NaN</td>\n",
       "      <td>Albania</td>\n",
       "      <td>Albanian lek</td>\n",
       "      <td>...</td>\n",
       "      <td>None</td>\n",
       "      <td>None</td>\n",
       "      <td>No</td>\n",
       "      <td>Computer science, computer engineering, or sof...</td>\n",
       "      <td>None</td>\n",
       "      <td>None</td>\n",
       "      <td>Somewhat less welcome now than last year</td>\n",
       "      <td>40.0</td>\n",
       "      <td>7</td>\n",
       "      <td>4</td>\n",
       "    </tr>\n",
       "    <tr>\n",
       "      <th>4</th>\n",
       "      <td>5</td>\n",
       "      <td>I used to be a developer by profession, but no...</td>\n",
       "      <td>Yes</td>\n",
       "      <td>31.0</td>\n",
       "      <td>16</td>\n",
       "      <td>None</td>\n",
       "      <td>NaN</td>\n",
       "      <td>NaN</td>\n",
       "      <td>United States</td>\n",
       "      <td>None</td>\n",
       "      <td>...</td>\n",
       "      <td>Easy</td>\n",
       "      <td>Too short</td>\n",
       "      <td>No</td>\n",
       "      <td>Computer science, computer engineering, or sof...</td>\n",
       "      <td>Django;Ruby on Rails</td>\n",
       "      <td>Ruby on Rails</td>\n",
       "      <td>Just as welcome now as I felt last year</td>\n",
       "      <td>NaN</td>\n",
       "      <td>15</td>\n",
       "      <td>8</td>\n",
       "    </tr>\n",
       "    <tr>\n",
       "      <th>5</th>\n",
       "      <td>6</td>\n",
       "      <td>I am a developer by profession</td>\n",
       "      <td>No</td>\n",
       "      <td>NaN</td>\n",
       "      <td>14</td>\n",
       "      <td>None</td>\n",
       "      <td>NaN</td>\n",
       "      <td>NaN</td>\n",
       "      <td>Germany</td>\n",
       "      <td>European Euro</td>\n",
       "      <td>...</td>\n",
       "      <td>Neither easy nor difficult</td>\n",
       "      <td>Appropriate in length</td>\n",
       "      <td>None</td>\n",
       "      <td>None</td>\n",
       "      <td>React.js</td>\n",
       "      <td>None</td>\n",
       "      <td>None</td>\n",
       "      <td>NaN</td>\n",
       "      <td>6</td>\n",
       "      <td>4</td>\n",
       "    </tr>\n",
       "    <tr>\n",
       "      <th>6</th>\n",
       "      <td>7</td>\n",
       "      <td>I am a developer by profession</td>\n",
       "      <td>Yes</td>\n",
       "      <td>NaN</td>\n",
       "      <td>18</td>\n",
       "      <td>Monthly</td>\n",
       "      <td>NaN</td>\n",
       "      <td>NaN</td>\n",
       "      <td>India</td>\n",
       "      <td>United States dollar</td>\n",
       "      <td>...</td>\n",
       "      <td>None</td>\n",
       "      <td>None</td>\n",
       "      <td>None</td>\n",
       "      <td>Computer science, computer engineering, or sof...</td>\n",
       "      <td>None</td>\n",
       "      <td>None</td>\n",
       "      <td>A lot more welcome now than last year</td>\n",
       "      <td>NaN</td>\n",
       "      <td>6</td>\n",
       "      <td>4</td>\n",
       "    </tr>\n",
       "    <tr>\n",
       "      <th>7</th>\n",
       "      <td>8</td>\n",
       "      <td>I am a developer by profession</td>\n",
       "      <td>Yes</td>\n",
       "      <td>36.0</td>\n",
       "      <td>12</td>\n",
       "      <td>Yearly</td>\n",
       "      <td>116000.0</td>\n",
       "      <td>116000.0</td>\n",
       "      <td>United States</td>\n",
       "      <td>United States dollar</td>\n",
       "      <td>...</td>\n",
       "      <td>Easy</td>\n",
       "      <td>Appropriate in length</td>\n",
       "      <td>No</td>\n",
       "      <td>Computer science, computer engineering, or sof...</td>\n",
       "      <td>Django;React.js;Vue.js</td>\n",
       "      <td>Flask</td>\n",
       "      <td>Just as welcome now as I felt last year</td>\n",
       "      <td>39.0</td>\n",
       "      <td>17</td>\n",
       "      <td>13</td>\n",
       "    </tr>\n",
       "    <tr>\n",
       "      <th>8</th>\n",
       "      <td>9</td>\n",
       "      <td>I am a developer by profession</td>\n",
       "      <td>No</td>\n",
       "      <td>30.0</td>\n",
       "      <td>20</td>\n",
       "      <td>None</td>\n",
       "      <td>NaN</td>\n",
       "      <td>NaN</td>\n",
       "      <td>Tunisia</td>\n",
       "      <td>United States dollar</td>\n",
       "      <td>...</td>\n",
       "      <td>Neither easy nor difficult</td>\n",
       "      <td>Appropriate in length</td>\n",
       "      <td>No</td>\n",
       "      <td>Computer science, computer engineering, or sof...</td>\n",
       "      <td>Angular.js</td>\n",
       "      <td>jQuery</td>\n",
       "      <td>Just as welcome now as I felt last year</td>\n",
       "      <td>50.0</td>\n",
       "      <td>6</td>\n",
       "      <td>4</td>\n",
       "    </tr>\n",
       "    <tr>\n",
       "      <th>9</th>\n",
       "      <td>10</td>\n",
       "      <td>I am a developer by profession</td>\n",
       "      <td>Yes</td>\n",
       "      <td>22.0</td>\n",
       "      <td>14</td>\n",
       "      <td>Yearly</td>\n",
       "      <td>25000.0</td>\n",
       "      <td>32315.0</td>\n",
       "      <td>United Kingdom</td>\n",
       "      <td>Pound sterling</td>\n",
       "      <td>...</td>\n",
       "      <td>Easy</td>\n",
       "      <td>Appropriate in length</td>\n",
       "      <td>No</td>\n",
       "      <td>Mathematics or statistics</td>\n",
       "      <td>Flask;jQuery</td>\n",
       "      <td>Flask;jQuery</td>\n",
       "      <td>Somewhat more welcome now than last year</td>\n",
       "      <td>36.0</td>\n",
       "      <td>8</td>\n",
       "      <td>4</td>\n",
       "    </tr>\n",
       "  </tbody>\n",
       "</table>\n",
       "<p>10 rows × 61 columns</p>\n",
       "</div>"
      ],
      "text/plain": [
       "   Respondent                                         MainBranch Hobbyist  \\\n",
       "0           1                     I am a developer by profession      Yes   \n",
       "1           2                     I am a developer by profession       No   \n",
       "2           3                        I code primarily as a hobby      Yes   \n",
       "3           4                     I am a developer by profession      Yes   \n",
       "4           5  I used to be a developer by profession, but no...      Yes   \n",
       "5           6                     I am a developer by profession       No   \n",
       "6           7                     I am a developer by profession      Yes   \n",
       "7           8                     I am a developer by profession      Yes   \n",
       "8           9                     I am a developer by profession       No   \n",
       "9          10                     I am a developer by profession      Yes   \n",
       "\n",
       "    Age Age1stCode CompFreq  CompTotal  ConvertedComp             Country  \\\n",
       "0   NaN         13  Monthly        NaN            NaN             Germany   \n",
       "1   NaN         19     None        NaN            NaN      United Kingdom   \n",
       "2   NaN         15     None        NaN            NaN  Russian Federation   \n",
       "3  25.0         18     None        NaN            NaN             Albania   \n",
       "4  31.0         16     None        NaN            NaN       United States   \n",
       "5   NaN         14     None        NaN            NaN             Germany   \n",
       "6   NaN         18  Monthly        NaN            NaN               India   \n",
       "7  36.0         12   Yearly   116000.0       116000.0       United States   \n",
       "8  30.0         20     None        NaN            NaN             Tunisia   \n",
       "9  22.0         14   Yearly    25000.0        32315.0      United Kingdom   \n",
       "\n",
       "           CurrencyDesc  ...                  SurveyEase  \\\n",
       "0         European Euro  ...  Neither easy nor difficult   \n",
       "1        Pound sterling  ...                        None   \n",
       "2                  None  ...  Neither easy nor difficult   \n",
       "3          Albanian lek  ...                        None   \n",
       "4                  None  ...                        Easy   \n",
       "5         European Euro  ...  Neither easy nor difficult   \n",
       "6  United States dollar  ...                        None   \n",
       "7  United States dollar  ...                        Easy   \n",
       "8  United States dollar  ...  Neither easy nor difficult   \n",
       "9        Pound sterling  ...                        Easy   \n",
       "\n",
       "            SurveyLength Trans  \\\n",
       "0  Appropriate in length    No   \n",
       "1                   None  None   \n",
       "2  Appropriate in length  None   \n",
       "3                   None    No   \n",
       "4              Too short    No   \n",
       "5  Appropriate in length  None   \n",
       "6                   None  None   \n",
       "7  Appropriate in length    No   \n",
       "8  Appropriate in length    No   \n",
       "9  Appropriate in length    No   \n",
       "\n",
       "                                      UndergradMajor  WebframeDesireNextYear  \\\n",
       "0  Computer science, computer engineering, or sof...            ASP.NET Core   \n",
       "1  Computer science, computer engineering, or sof...                    None   \n",
       "2                                               None                    None   \n",
       "3  Computer science, computer engineering, or sof...                    None   \n",
       "4  Computer science, computer engineering, or sof...    Django;Ruby on Rails   \n",
       "5                                               None                React.js   \n",
       "6  Computer science, computer engineering, or sof...                    None   \n",
       "7  Computer science, computer engineering, or sof...  Django;React.js;Vue.js   \n",
       "8  Computer science, computer engineering, or sof...              Angular.js   \n",
       "9                          Mathematics or statistics            Flask;jQuery   \n",
       "\n",
       "     WebframeWorkedWith                             WelcomeChange WorkWeekHrs  \\\n",
       "0  ASP.NET;ASP.NET Core   Just as welcome now as I felt last year        50.0   \n",
       "1                  None  Somewhat more welcome now than last year         NaN   \n",
       "2                  None  Somewhat more welcome now than last year         NaN   \n",
       "3                  None  Somewhat less welcome now than last year        40.0   \n",
       "4         Ruby on Rails   Just as welcome now as I felt last year         NaN   \n",
       "5                  None                                      None         NaN   \n",
       "6                  None     A lot more welcome now than last year         NaN   \n",
       "7                 Flask   Just as welcome now as I felt last year        39.0   \n",
       "8                jQuery   Just as welcome now as I felt last year        50.0   \n",
       "9          Flask;jQuery  Somewhat more welcome now than last year        36.0   \n",
       "\n",
       "  YearsCode YearsCodePro  \n",
       "0        36           27  \n",
       "1         7            4  \n",
       "2         4         None  \n",
       "3         7            4  \n",
       "4        15            8  \n",
       "5         6            4  \n",
       "6         6            4  \n",
       "7        17           13  \n",
       "8         6            4  \n",
       "9         8            4  \n",
       "\n",
       "[10 rows x 61 columns]"
      ]
     },
     "execution_count": 35,
     "metadata": {},
     "output_type": "execute_result"
    }
   ],
   "source": [
    "local_df"
   ]
  },
  {
   "cell_type": "code",
   "execution_count": 36,
   "metadata": {
    "tags": []
   },
   "outputs": [],
   "source": [
    "pd.set_option('display.max_columns', None)    # pokazuj wszystkie kolumny\n",
    "# pd.reset_option(“display.max_columns”)"
   ]
  },
  {
   "cell_type": "markdown",
   "metadata": {},
   "source": [
    "## <span style='background:yellow'> ZADANIE 2 </span>\n",
    "Napisz w Spark SQL zapytanie które zwróci średnią liczbę godzin przepracowywanych przez z respondentów pogrupowanych ze względu na kraj. Następnie przekształć wynik do ramki pandasowej i ją wyświetl.\n"
   ]
  },
  {
   "cell_type": "markdown",
   "metadata": {},
   "source": [
    "## Wizualizacje\n",
    "\n",
    "Do wizualizacji będziemy się posługiwać modułami matplotlib (https://matplotlib.org/) i seaborn (https://seaborn.pydata.org/). Do bardzo rozbudowane moduły, zachęcamy do eksploracji oficjalnych dokumentacji. Na zajęciach zrealizujemy następujące wykresy:\n",
    "* histogramy\n",
    "* liniowe \n",
    "* wiolinowe\n",
    "* kołowe \n",
    "\n",
    "Moduły wizualizacyjne wymagają danych na lokalnej maszynie. Mogą być to natywne typy danych Pythonowe (słowniki, listy) ale także np ramki danych pandasowe. ~~Nie działa wizualizacja na ramkach danych Sparkowych.~~\n"
   ]
  },
  {
   "cell_type": "code",
   "execution_count": null,
   "metadata": {},
   "outputs": [],
   "source": [
    "import matplotlib.pyplot as plt\n",
    "import seaborn as sns"
   ]
  },
  {
   "cell_type": "markdown",
   "metadata": {},
   "source": [
    "## Narysuj histogram wieku respondentów"
   ]
  },
  {
   "cell_type": "code",
   "execution_count": null,
   "metadata": {},
   "outputs": [],
   "source": [
    "# przygotowanie danych\n",
    "# przycinamy dane tylko do zakresu ktory jest potrzebny do realizacji polecenia\n",
    "ages = spark.sql(f\"SELECT CAST (Age AS INT) \\\n",
    "                    FROM {table_name} \\\n",
    "                    WHERE age IS NOT NULL \\\n",
    "                    AND age BETWEEN 10 AND 80\").toPandas()"
   ]
  },
  {
   "cell_type": "code",
   "execution_count": null,
   "metadata": {},
   "outputs": [],
   "source": [
    "ages"
   ]
  },
  {
   "cell_type": "code",
   "execution_count": null,
   "metadata": {},
   "outputs": [],
   "source": [
    "ages.hist(\"Age\", bins=10)\n",
    "plt.show()"
   ]
  },
  {
   "cell_type": "code",
   "execution_count": null,
   "metadata": {},
   "outputs": [],
   "source": [
    "sns.displot(ages, bins=10, rug=True, kde=False)\n",
    "plt.show()"
   ]
  },
  {
   "cell_type": "markdown",
   "metadata": {},
   "source": [
    "## Jaki jest udział programistów hobbistów? Narysuj wykres kołowy"
   ]
  },
  {
   "cell_type": "markdown",
   "metadata": {},
   "source": [
    "Będzie nas interesowała ta proporcja ze względu na płeć."
   ]
  },
  {
   "cell_type": "code",
   "execution_count": null,
   "metadata": {},
   "outputs": [],
   "source": [
    "# przygotowanie (filtrowanie, grupowanie i zliczenie) danych na rozproszonych danych (spark sql)\n",
    "# pozniej pobranie do pandasowej ramki\n",
    "hobby_all = spark.sql(f\"SELECT Hobbyist, COUNT(*) AS cnt FROM {table_name} WHERE Hobbyist IS NOT NULL GROUP BY Hobbyist\").toPandas()\n",
    "hobby_men = spark.sql(f\"SELECT Hobbyist, COUNT(*) AS cnt FROM {table_name} WHERE Hobbyist IS NOT NULL AND Gender='Man' GROUP BY Hobbyist\").toPandas()\n",
    "hobby_women = spark.sql(f\"SELECT Hobbyist, COUNT(*) AS cnt FROM {table_name} WHERE Hobbyist IS NOT NULL AND Gender='Woman' GROUP BY Hobbyist\").toPandas()\n"
   ]
  },
  {
   "cell_type": "code",
   "execution_count": null,
   "metadata": {},
   "outputs": [],
   "source": [
    "hobby_all.plot.pie(y='cnt', labels=hobby_all['Hobbyist'], title=\"All\", autopct='%.0f')\n",
    "plt.legend(loc=\"lower center\")\n",
    "plt.show()"
   ]
  },
  {
   "cell_type": "code",
   "execution_count": null,
   "metadata": {},
   "outputs": [],
   "source": [
    "hobby_men.plot.pie(y='cnt', labels=hobby_men['Hobbyist'], title=\"Men\", autopct='%.0f')\n",
    "plt.legend(loc=\"lower center\")\n",
    "plt.show()"
   ]
  },
  {
   "cell_type": "code",
   "execution_count": null,
   "metadata": {},
   "outputs": [],
   "source": [
    "hobby_women.plot.pie(y='cnt', labels=hobby_women['Hobbyist'], title=\"Women\", autopct='%.0f')\n",
    "plt.legend(loc=\"lower center\")\n",
    "plt.show()"
   ]
  },
  {
   "cell_type": "code",
   "execution_count": null,
   "metadata": {},
   "outputs": [],
   "source": [
    "fig, axes = plt.subplots(nrows=1, ncols=3, figsize=(15,5))\n",
    "\n",
    "hobby_all.plot.pie(y='cnt', labels=hobby_all['Hobbyist'], title=\"All\", ax=axes[0], autopct='%.0f')\n",
    "hobby_men.plot.pie(y='cnt', labels=hobby_men['Hobbyist'], title=\"Men\", ax=axes[1], autopct='%.0f')\n",
    "hobby_women.plot.pie(y='cnt', labels=hobby_men['Hobbyist'], title=\"Women\", ax=axes[2], autopct='%.0f')\n",
    "\n",
    "plt.show()"
   ]
  },
  {
   "cell_type": "markdown",
   "metadata": {},
   "source": [
    "## Wykres liniowy. Zależność między wiekiem a liczbą przepracowanych godzin\n",
    "Interesują nas dla developerzy profesjonaliści (nie hobbiści) w przedziale wiekowym 18-65."
   ]
  },
  {
   "cell_type": "code",
   "execution_count": null,
   "metadata": {},
   "outputs": [],
   "source": [
    "# przygotowanie (filtrowanie, grupowanie, wyliczenie sredniej oraz sortowanie) danych na rozproszonych danych (spark sql)\n",
    "# pozniej pobranie do pandasowej ramki\n",
    "\n",
    "age_work = spark.sql(f\"SELECT age, CAST (avg(WorkWeekHrs) AS INT) AS avg FROM {table_name} \\\n",
    "            WHERE WorkWeekHrs IS NOT NULL AND age BETWEEN 18 AND 65 AND hobbyist = 'No' \\\n",
    "            GROUP BY age \\\n",
    "            ORDER BY age ASC\").toPandas()"
   ]
  },
  {
   "cell_type": "code",
   "execution_count": null,
   "metadata": {},
   "outputs": [],
   "source": [
    "age_work"
   ]
  },
  {
   "cell_type": "code",
   "execution_count": null,
   "metadata": {},
   "outputs": [],
   "source": [
    "age_work.plot(x='age', y='avg', kind='line')\n",
    "plt.show()"
   ]
  },
  {
   "cell_type": "code",
   "execution_count": null,
   "metadata": {},
   "outputs": [],
   "source": [
    "sns.relplot(x=\"age\", y=\"avg\", kind=\"line\", data=age_work);\n",
    "plt.show()"
   ]
  },
  {
   "cell_type": "markdown",
   "metadata": {},
   "source": [
    "## Wykres słupkowy. Pokaż liczbę respondentów na kraj\n",
    "\n",
    "Interesuje nas tylko 10 krajów o najwyższej liczbie respondentow."
   ]
  },
  {
   "cell_type": "code",
   "execution_count": null,
   "metadata": {},
   "outputs": [],
   "source": [
    "# przygotowanie (grupowanie, zliczenie, sortowanie oraz przyciecie do 10 wyników) danych na rozproszonych danych (spark sql)\n",
    "# pozniej pobranie do pandasowej ramki\n",
    "\n",
    "max_countries = spark.sql(f\"SELECT country, COUNT(*) AS cnt \\\n",
    "                FROM {table_name} \\\n",
    "                GROUP BY country \\\n",
    "                ORDER BY cnt DESC \\\n",
    "                LIMIT 10 \").toPandas()"
   ]
  },
  {
   "cell_type": "code",
   "execution_count": null,
   "metadata": {},
   "outputs": [],
   "source": [
    "max_countries.plot.bar(y='cnt', x='country')\n",
    "plt.show()"
   ]
  },
  {
   "cell_type": "code",
   "execution_count": null,
   "metadata": {},
   "outputs": [],
   "source": [
    "sns.catplot(x=\"country\", y=\"cnt\", kind=\"bar\",\\\n",
    "            data=max_countries).set_xticklabels(rotation=65)\n",
    "plt.show()"
   ]
  },
  {
   "cell_type": "markdown",
   "metadata": {},
   "source": [
    "## Wykres słupkowy. Średnie zarobki w  krajach w ktorych jest powyzej 1000 respondentów"
   ]
  },
  {
   "cell_type": "code",
   "execution_count": null,
   "metadata": {},
   "outputs": [],
   "source": [
    "# przygotowanie (filtrowanie, grupowanie, wyliczenie sredniej, filtrowanie po liczności i grup oraz sortowanie) danych na rozproszonych danych (spark sql)\n",
    "# pozniej pobranie do pandasowej ramki\n",
    "\n",
    "country_salary = spark.sql(f\"SELECT country, \\\n",
    "    CAST (avg(ConvertedComp) AS INT) as avg \\\n",
    "    FROM {table_name} \\\n",
    "    WHERE country IS NOT NULL \\\n",
    "    GROUP BY country \\\n",
    "    HAVING COUNT(*) > 1000 \\\n",
    "    ORDER BY avg DESC \").toPandas()"
   ]
  },
  {
   "cell_type": "code",
   "execution_count": null,
   "metadata": {},
   "outputs": [],
   "source": [
    "country_salary.plot.barh((\"country\"))\n",
    "plt.show()"
   ]
  },
  {
   "cell_type": "markdown",
   "metadata": {},
   "source": [
    "## Boxplot. Pokaz rozklad pensji w krajach gdzie jest powyzej 1000 respondentów\n",
    "Tutaj będziemy musieli skorzystać z podzapytania."
   ]
  },
  {
   "cell_type": "code",
   "execution_count": null,
   "metadata": {},
   "outputs": [],
   "source": [
    "# przygotowanie danych na rozproszonych danych (spark sql). Mamy tu do czynienia z podzapytaniem\n",
    "# pozniej pobranie do pandasowej ramki\n",
    "\n",
    "country_comp = spark.sql(f\"SELECT country, CAST(ConvertedComp AS INT) \\\n",
    "                FROM {table_name} \\\n",
    "                WHERE country IN (SELECT country FROM {table_name} GROUP BY country HAVING COUNT(*) > 1000) \\\n",
    "                AND ConvertedComp IS NOT NULL AND ConvertedComp > 0 \\\n",
    "                ORDER BY ConvertedComp desc\").toPandas()\n",
    "country_comp"
   ]
  },
  {
   "cell_type": "code",
   "execution_count": null,
   "metadata": {},
   "outputs": [],
   "source": [
    "country_comp.boxplot(column=\"ConvertedComp\", by=\"country\", \\\n",
    "                     showfliers=False, rot=60, meanline=True)\n",
    "plt.show()"
   ]
  },
  {
   "cell_type": "code",
   "execution_count": null,
   "metadata": {},
   "outputs": [],
   "source": [
    "sns.catplot(x=\"country\", y=\"ConvertedComp\", kind=\"box\", \\\n",
    "            showfliers=False, data=country_comp, palette=\"Blues\")\\\n",
    "    .set_xticklabels(rotation=65)\n",
    "plt.show()"
   ]
  },
  {
   "cell_type": "markdown",
   "metadata": {},
   "source": [
    "## <span style='background:yellow'> ZADANIE 3 </span>\n",
    "Narysuj rozklad pensji w zaleznosci od plci."
   ]
  },
  {
   "cell_type": "markdown",
   "metadata": {},
   "source": [
    "## Narysuj wykres popularnosci jezykow programowania"
   ]
  },
  {
   "cell_type": "code",
   "execution_count": null,
   "metadata": {},
   "outputs": [],
   "source": [
    "spark.sql(f\"select LanguageWorkedWith from {table_name} where LanguageWorkedWith IS NOT NULL\").show(truncate=False)"
   ]
  },
  {
   "cell_type": "markdown",
   "metadata": {},
   "source": [
    "Języki programowania są zapisane w pojedynczej komórce. Będzie trzeba je rozdzielić i zliczyć. Tak przygotowane dane dopiero posłużą nam do narysowania wykresu. Wykorzystamy funkcję `posexplode`."
   ]
  },
  {
   "cell_type": "code",
   "execution_count": null,
   "metadata": {},
   "outputs": [],
   "source": [
    "langs = spark.sql(f\"select LanguageWorkedWith from {table_name} where LanguageWorkedWith IS NOT NULL\")"
   ]
  },
  {
   "cell_type": "code",
   "execution_count": null,
   "metadata": {},
   "outputs": [],
   "source": [
    "from pyspark.sql.functions import *\n",
    "\n",
    "langs.select(\n",
    "        posexplode(split(\"LanguageWorkedWith\", \";\")).alias(\"pos\", \"language\")\n",
    "    ).show()"
   ]
  },
  {
   "cell_type": "code",
   "execution_count": null,
   "metadata": {},
   "outputs": [],
   "source": [
    "langs.select(\n",
    "        posexplode(split(\"LanguageWorkedWith\", \";\")).alias(\"pos\", \"language\")).groupBy(\"language\").count().orderBy(\"count\").show()"
   ]
  },
  {
   "cell_type": "code",
   "execution_count": null,
   "metadata": {},
   "outputs": [],
   "source": [
    "langs_pd = langs.select(\n",
    "        posexplode(split(\"LanguageWorkedWith\", \";\")).alias(\"pos\", \"language\")).groupBy(\"language\").count().orderBy(\"count\").toPandas()\n",
    "langs_pd"
   ]
  },
  {
   "cell_type": "code",
   "execution_count": null,
   "metadata": {},
   "outputs": [],
   "source": [
    "from matplotlib.pyplot import figure\n",
    "\n",
    "figure(figsize=(8, 9))\n",
    "plt.barh(width=langs_pd[\"count\"], y=langs_pd[\"language\"])\n",
    "plt.show()"
   ]
  },
  {
   "cell_type": "markdown",
   "metadata": {},
   "source": [
    "## Narysuj wykres popularnosci jezykow wsrod Data Scientists\n"
   ]
  },
  {
   "cell_type": "markdown",
   "metadata": {},
   "source": [
    "Zdefiniujmy sobie funkcję, która przekształca nam języki do wymaganej przez nas postaci"
   ]
  },
  {
   "cell_type": "code",
   "execution_count": null,
   "metadata": {},
   "outputs": [],
   "source": [
    "from pyspark.sql.functions import *\n",
    "\n",
    "def prepare_lang(df, colName='LanguageWorkedWith'):\n",
    "    summary = df.select(posexplode(split(colName, \";\")).alias(\"pos\", \"language\")).groupBy(\"language\").count().orderBy(\"count\")\n",
    "    return summary"
   ]
  },
  {
   "cell_type": "code",
   "execution_count": null,
   "metadata": {},
   "outputs": [],
   "source": [
    "langs_ds = spark.sql(f\"SELECT LanguageWorkedWith \\\n",
    "                FROM {table_name} \\\n",
    "                WHERE DevType LIKE '%Data scientist%'\")\n",
    "\n",
    "sum_lang = prepare_lang(langs_ds).toPandas()\n",
    "\n",
    "figure(figsize=(8, 9))\n",
    "plt.barh(width=sum_lang[\"count\"], y=sum_lang[\"language\"])\n",
    "plt.show()"
   ]
  },
  {
   "cell_type": "markdown",
   "metadata": {},
   "source": [
    "## Narysuj wykres którego chcą wykorzystywać w przyszłości Data Scientists"
   ]
  },
  {
   "cell_type": "code",
   "execution_count": null,
   "metadata": {},
   "outputs": [],
   "source": [
    "lang_desired = spark.sql(f\"select LanguageDesireNextYear \\\n",
    "                from {table_name} \\\n",
    "                where DevType like '%Data scientist%'\")\n",
    "\n",
    "sum_lang = prepare_lang(lang_desired, 'LanguageDesireNextYear').toPandas()\n",
    "\n",
    "figure(num=None, figsize=(8, 9), dpi=80, facecolor='w', edgecolor='k')\n",
    "plt.barh(width=sum_lang[\"count\"], y=sum_lang[\"language\"])\n",
    "plt.show()"
   ]
  },
  {
   "cell_type": "markdown",
   "metadata": {},
   "source": [
    "## Narysuj wykres prezentujący liczbę godzin na pracy w zależności od wykształcenia"
   ]
  },
  {
   "cell_type": "code",
   "execution_count": null,
   "metadata": {},
   "outputs": [],
   "source": [
    "spark.sql(f\"select distinct EdLevel from {table_name}\").show(truncate=False) # jakie są wartości wykształcenia"
   ]
  },
  {
   "cell_type": "code",
   "execution_count": null,
   "metadata": {},
   "outputs": [],
   "source": [
    "\n",
    "ed_pandas = spark.sql(f\"SELECT EdLevel, WorkWeekHrs FROM {table_name} \\\n",
    "            WHERE WorkWeekHrs BETWEEN 10 AND 80 \\\n",
    "            AND (EdLevel LIKE '%Bachelor%' OR EdLevel LIKE '%Master%' OR EdLevel LIKE '%Other doctoral%')\").toPandas()\n",
    "\n",
    "ed_pandas['EdLevel'] = ed_pandas['EdLevel'].replace('Bachelor’s degree (B.A., B.S., B.Eng., etc.)','Bachelor')\n",
    "ed_pandas['EdLevel'] = ed_pandas['EdLevel'].replace('Master’s degree (M.A., M.S., M.Eng., MBA, etc.)','Master')\n",
    "ed_pandas['EdLevel'] = ed_pandas['EdLevel'].replace('Other doctoral degree (Ph.D., Ed.D., etc.)','Doctor')\n",
    "\n",
    "ed_pandas"
   ]
  },
  {
   "cell_type": "code",
   "execution_count": null,
   "metadata": {},
   "outputs": [],
   "source": [
    "sns.catplot(x=\"EdLevel\", y=\"WorkWeekHrs\", data=ed_pandas)\n",
    "plt.show()"
   ]
  },
  {
   "cell_type": "markdown",
   "metadata": {},
   "source": [
    "## Narysuj wykres wiolinowy pokazujacy rozkład dochodów w zależności od wykształcenia"
   ]
  },
  {
   "cell_type": "code",
   "execution_count": null,
   "metadata": {},
   "outputs": [],
   "source": [
    "ed_pay = spark.sql(f\"SELECT EdLevel, CAST (CompTotal AS INT) AS CompTotal FROM {table_name} \\\n",
    "            WHERE CompTotal BETWEEN 0 AND 1000000  \\\n",
    "            AND (EdLevel LIKE '%Bachelor%' OR EdLevel LIKE '%Master%' OR EdLevel LIKE '%Other doctoral%')\").toPandas()\n",
    "\n",
    "ed_pay['EdLevel'] = ed_pay['EdLevel'].replace('Bachelor’s degree (B.A., B.S., B.Eng., etc.)','Bachelor')\n",
    "ed_pay['EdLevel'] = ed_pay['EdLevel'].replace('Master’s degree (M.A., M.S., M.Eng., MBA, etc.)','Master')\n",
    "ed_pay['EdLevel'] = ed_pay['EdLevel'].replace('Other doctoral degree (Ph.D., Ed.D., etc.)','Doctor')\n",
    "\n",
    "ed_pay"
   ]
  },
  {
   "cell_type": "code",
   "execution_count": null,
   "metadata": {},
   "outputs": [],
   "source": [
    "sns.catplot(x=\"EdLevel\", y=\"CompTotal\", kind=\"boxen\",\n",
    "            data=ed_pay);\n",
    "plt.show()"
   ]
  },
  {
   "cell_type": "markdown",
   "metadata": {},
   "source": [
    "## ⭐ Narysuj heatmape odwiedzin na StackOverflow dla wybranych krajów ⭐"
   ]
  },
  {
   "cell_type": "code",
   "execution_count": null,
   "metadata": {},
   "outputs": [],
   "source": [
    "spark.sql(f\"SELECT DISTINCT SOVisitFreq FROM {table_name}\").show(truncate=False)"
   ]
  },
  {
   "cell_type": "code",
   "execution_count": null,
   "metadata": {},
   "outputs": [],
   "source": [
    "so_v = spark.sql(f\"SELECT SOVisitFreq, t1.country, COUNT(*)/first(t2.t) AS cnt from {table_name} t1 \\\n",
    "            JOIN (SELECT country, COUNT(*) as t FROM {table_name} GROUP BY country) t2 \\\n",
    "            ON t1.country = t2.country \\\n",
    "            WHERE t1.country IS NOT NULL AND SOVisitFreq IS NOT NULL \\\n",
    "            AND t1.country IN ('Poland', 'United States', 'Russian Federation', 'China', 'India', 'Germany', 'Japan') \\\n",
    "            GROUP BY t1.country, SOVisitFreq\").toPandas()\n",
    "\n",
    "so_v['SOVisitFreq'] = pd.Categorical(so_v['SOVisitFreq'], [\"I have never visited Stack Overflow (before today)\", \"Less than once per month or monthly\", \"A few times per month or weekly\", \"A few times per week\", \"Daily or almost daily\", \"Multiple times per day\"])\n",
    "# so_v.sort_values['SOVisitFreq']\n"
   ]
  },
  {
   "cell_type": "code",
   "execution_count": null,
   "metadata": {},
   "outputs": [],
   "source": [
    "heatmap2_data = pd.pivot_table(so_v, values='cnt', index=['country'], columns='SOVisitFreq')\n",
    "sns.heatmap(heatmap2_data, cmap=\"BuGn\")\n",
    "plt.show()"
   ]
  },
  {
   "cell_type": "markdown",
   "metadata": {},
   "source": [
    "## <span style='background:yellow'> ZADANIE 4 </span>\n",
    "* Narysuj wykres słupkowy popularności wykorzystywanych baz danych przez profesjonalnych programistów.\n",
    "* Narysuj wykres kołowy przedstawiający procentowy udział poziomu wykształcenia inz, mgr i dr w grupie respondentów."
   ]
  },
  {
   "cell_type": "code",
   "execution_count": null,
   "metadata": {},
   "outputs": [],
   "source": [
    "spark.stop()"
   ]
  }
 ],
 "metadata": {
  "kernelspec": {
   "display_name": "Python 3",
   "language": "python",
   "name": "python3"
  },
  "language_info": {
   "codemirror_mode": {
    "name": "ipython",
    "version": 3
   },
   "file_extension": ".py",
   "mimetype": "text/x-python",
   "name": "python",
   "nbconvert_exporter": "python",
   "pygments_lexer": "ipython3",
   "version": "3.11.8"
  },
  "notebook_test": {
   "keytab_path": "/data/work/home/ds-lab-testuser1/ds-lab-testuser1.keytab",
   "user": "ds-lab-testuser1"
  }
 },
 "nbformat": 4,
 "nbformat_minor": 4
}
