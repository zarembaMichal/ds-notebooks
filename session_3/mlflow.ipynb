{
 "cells": [
  {
   "cell_type": "markdown",
   "metadata": {},
   "source": [
    "\n",
    "\n",
    "## Zakres dzisiejszych zajęć:\n",
    "* wdrożenie modelu ML\n",
    "\n",
    "## Zarządzanie i wdrażanie modeli ML\n",
    "Platform ML Flow (https://www.mlflow.org/docs/latest/index.html) umożliwia całościowe zarządzanie cyklem życia modeli.\n",
    "\n",
    "Cykl życia modelu: \n",
    "\n",
    "1. Pobranie surowych danych  2. Przygotowanie danych 3. Trenowanie 4. Wdrożenie \n",
    "\n",
    "Inzynieria danych (1,2), Analityka danych (3), Inzynieria oprogramowania (4)\n",
    "\n",
    "ML FLow ma 4 podstawowe komponenty:  TRACKING, PROJECTS, MODELS, REJESTR\n",
    "* logowanie eksperymentów, wartości parametrów modeli i osiąganych przez nie wyników\n",
    "* serializowanie modeli (na potrzeby współdzielenia modelu, przeniesienia na inne środowisko lub serwowania)\n",
    "* samodzielny format do uruchamiania analiz\n",
    "* wersjonowanie modelu, adnotowanie i przechowywanie w Rejestrze\n",
    "Rozwiazanie open-source.\n"
   ]
  },
  {
   "cell_type": "markdown",
   "metadata": {},
   "source": [
    "![mlflow](mlflow.jpeg)"
   ]
  },
  {
   "cell_type": "markdown",
   "metadata": {},
   "source": [
    "### Przygotowanie danych do analizy"
   ]
  },
  {
   "cell_type": "code",
   "execution_count": null,
   "metadata": {},
   "outputs": [],
   "source": [
    "user_name = 'yourGitHubUsername' # TODO set your GitHub user name\n",
    "tracking_uri = 'https://mlflow-server-919598915406.us-central1.run.app' # TODO set your mlflow server url\n",
    "semester = '2024l' # TODO set appropriate semester\n",
    "user_id = 9903 # TODO set appropriate user id\n",
    "\n",
    "from pyspark.sql import SparkSession\n",
    "spark = SparkSession \\\n",
    ".builder \\\n",
    ".config('spark.driver.memory','1g') \\\n",
    ".config('spark.executor.memory', '2g') \\\n",
    ".getOrCreate()"
   ]
  },
  {
   "cell_type": "code",
   "execution_count": null,
   "metadata": {},
   "outputs": [],
   "source": [
    "gs_path = f'gs://ds-{semester}-{user_id}-notebook-data/survey/2020/survey_results_public.csv'\n",
    "table_name = \"survey_2020\" \n",
    "spark.sql(f'DROP TABLE IF EXISTS {table_name}')\n",
    "spark.sql(f'CREATE TABLE IF NOT EXISTS {table_name} \\\n",
    "          USING csv \\\n",
    "          OPTIONS (HEADER true, INFERSCHEMA true, NULLVALUE \"NA\") \\\n",
    "          LOCATION \"{gs_path}\"')\n",
    "\n",
    "spark_df= spark.sql(f'SELECT *, CAST((convertedComp > 60000) AS STRING) AS compAboveAvg \\\n",
    "                    FROM {table_name} WHERE convertedComp IS NOT NULL ')"
   ]
  },
  {
   "cell_type": "markdown",
   "metadata": {},
   "source": [
    "### Transformacja danych do wektora cech"
   ]
  },
  {
   "cell_type": "code",
   "execution_count": null,
   "metadata": {},
   "outputs": [],
   "source": [
    "from pyspark.ml.feature import StringIndexer, OneHotEncoder, VectorAssembler\n",
    "from pyspark.ml import Pipeline\n",
    "y = 'compAboveAvg' \n",
    "feature_columns = ['OpSys', 'EdLevel', 'MainBranch' , 'Country', 'JobSeek', 'YearsCode']\n",
    "\n",
    "stringindexer_stages = [StringIndexer(inputCol=c, outputCol='strindexed_' + c).setHandleInvalid(\"keep\") for c in feature_columns]\n",
    "stringindexer_stages += [StringIndexer(inputCol=y, outputCol='label')]\n",
    "\n",
    "onehotencoder_stages = [OneHotEncoder(inputCol='strindexed_' + c, outputCol='onehot_' + c) for c in feature_columns]\n",
    "extracted_columns = ['onehot_' + c for c in feature_columns]\n",
    "vectorassembler_stage = VectorAssembler(inputCols=extracted_columns, outputCol='features') \n",
    "\n",
    "final_columns = [y] + feature_columns + extracted_columns + ['features', 'label']\n",
    "\n",
    "transformed_df = Pipeline(stages=stringindexer_stages + \\\n",
    "                          onehotencoder_stages + \\\n",
    "                          [vectorassembler_stage]).fit(spark_df).transform(spark_df).select(final_columns)\n",
    "training, test = transformed_df.randomSplit([0.8, 0.2], seed=1234) # Podzial na zbior treningowy/testowy"
   ]
  },
  {
   "cell_type": "markdown",
   "metadata": {},
   "source": [
    "###  ML Flow: Definicja eksperymentu\n"
   ]
  },
  {
   "cell_type": "code",
   "execution_count": null,
   "metadata": {},
   "outputs": [],
   "source": [
    "import mlflow\n",
    "import mlflow.spark\n",
    "\n",
    "mlflow.set_tracking_uri(tracking_uri)\n",
    "\n",
    "ename = f\"classifier_{user_name}\"\n",
    "mlflow.set_experiment(experiment_name=ename)\n",
    "experiment = mlflow.get_experiment_by_name(ename)"
   ]
  },
  {
   "cell_type": "markdown",
   "metadata": {},
   "source": [
    "### Definicja metryk"
   ]
  },
  {
   "cell_type": "code",
   "execution_count": null,
   "metadata": {},
   "outputs": [],
   "source": [
    "from pyspark.ml.evaluation import BinaryClassificationEvaluator, MulticlassClassificationEvaluator\n",
    "evaluator_auroc = BinaryClassificationEvaluator(rawPredictionCol=\"rawPrediction\", metricName=\"areaUnderROC\")\n",
    "evaluator_acc = MulticlassClassificationEvaluator(labelCol=\"label\", predictionCol=\"prediction\", metricName=\"accuracy\")\n",
    "evaluator_recall = MulticlassClassificationEvaluator(labelCol=\"label\", predictionCol=\"prediction\", metricName=\"weightedRecall\")\n",
    "evaluator_prec = MulticlassClassificationEvaluator(labelCol=\"label\", predictionCol=\"prediction\", metricName=\"weightedPrecision\")\n",
    "evaluator_f = MulticlassClassificationEvaluator(labelCol=\"label\", predictionCol=\"prediction\", metricName=\"weightedFMeasure\")"
   ]
  },
  {
   "cell_type": "markdown",
   "metadata": {},
   "source": [
    "### ML Flow: logowanie eksperymentu z drzewem decyzyjnym"
   ]
  },
  {
   "cell_type": "markdown",
   "metadata": {},
   "source": [
    "Gotowy kod potoku analizy danych instrumentalizujemy z wykorzystaniem ML Flow.\n",
    "Instrumentalizacja nie wplywa na proces trenowania"
   ]
  },
  {
   "cell_type": "code",
   "execution_count": null,
   "metadata": {},
   "outputs": [],
   "source": [
    "from pyspark.ml.classification import DecisionTreeClassifier\n",
    "\n",
    "dt = DecisionTreeClassifier(featuresCol='features', labelCol='label')\n",
    "dt_model = Pipeline(stages=[dt]).fit(training)\n",
    "pred_dt = dt_model.transform(test)\n",
    "label_and_pred = pred_dt.select('label', 'prediction')\n",
    "\n",
    "### Instrumentalizacja kodu z uzyciem Pythonowego API ML Flow\n",
    "\n",
    "with mlflow.start_run(experiment_id = experiment.experiment_id, run_name=\"dt_model\"):\n",
    "    \n",
    "    mlflow.set_tag(\"classifier\", \"decision_tree\")  ## ustawienie tagow\n",
    "    mlflow.log_param(\"depth\", dt.getMaxDepth())    ## zapisanie metadanych - hiperparametrow\n",
    "    \n",
    "    res = dt_model.transform(test)\n",
    "\n",
    "    test_metric_auroc = evaluator_auroc.evaluate(res)\n",
    "    test_metric_acc = evaluator_acc.evaluate(res)\n",
    "    test_metric_recall = evaluator_recall.evaluate(res)\n",
    "    test_metric_prec = evaluator_prec.evaluate(res)\n",
    "    test_metric_f = evaluator_f.evaluate(res)\n",
    "\n",
    "    mlflow.log_metric(evaluator_auroc.getMetricName(), test_metric_auroc)  ### zapisanie metryk\n",
    "    mlflow.log_metric(evaluator_acc.getMetricName(), test_metric_acc) \n",
    "    mlflow.log_metric(evaluator_recall.getMetricName(), test_metric_recall) \n",
    "    mlflow.log_metric(evaluator_prec.getMetricName(), test_metric_prec)     \n",
    "    mlflow.log_metric(evaluator_f.getMetricName(), test_metric_f) \n",
    "  \n",
    "    mlflow.spark.log_model(spark_model=dt_model, artifact_path='dt_classifier') ## logowanie artefaktu - serializowany model"
   ]
  },
  {
   "cell_type": "markdown",
   "metadata": {},
   "source": [
    "ML Flow moze zapisac model z innej zaintegrowanej biblioteki (TF, Keras etc)\n",
    "Co widzimy w ML Flow UI?"
   ]
  },
  {
   "cell_type": "markdown",
   "metadata": {},
   "source": [
    "### ML Flow: logowanie eksperymentu drzewa decyzyjnego z walidacją krzyżową"
   ]
  },
  {
   "cell_type": "code",
   "execution_count": null,
   "metadata": {},
   "outputs": [],
   "source": [
    "from pyspark.ml.tuning import ParamGridBuilder\n",
    "param_grid = ParamGridBuilder(). \\\n",
    "    addGrid(dt.maxDepth, [2,3,4,5,6]).\\\n",
    "    build()\n",
    "from pyspark.ml.tuning import CrossValidator\n",
    "cv = CrossValidator(estimator=dt, estimatorParamMaps=param_grid, evaluator=evaluator_auroc, numFolds=4)\n",
    "\n",
    "with mlflow.start_run(experiment_id = experiment.experiment_id, run_name=\"best_model\"):\n",
    "    cv_model = cv.fit(training)\n",
    "  \n",
    "    mlflow.log_param(\"depth\", cv_model.bestModel.depth)\n",
    "    \n",
    "    res = cv_model.bestModel.transform(test)\n",
    "\n",
    "    test_metric_auroc = evaluator_auroc.evaluate(res)\n",
    "    test_metric_acc = evaluator_acc.evaluate(res)\n",
    "    test_metric_recall = evaluator_recall.evaluate(res)\n",
    "    test_metric_prec = evaluator_prec.evaluate(res)\n",
    "    test_metric_f = evaluator_f.evaluate(res)\n",
    "\n",
    "    mlflow.log_metric(evaluator_auroc.getMetricName(), test_metric_auroc) \n",
    "    mlflow.log_metric(evaluator_acc.getMetricName(), test_metric_acc) \n",
    "    mlflow.log_metric(evaluator_recall.getMetricName(), test_metric_recall) \n",
    "    mlflow.log_metric(evaluator_prec.getMetricName(), test_metric_prec)     \n",
    "    mlflow.log_metric(evaluator_f.getMetricName(), test_metric_f) \n",
    "  \n",
    "    mlflow.spark.log_model(spark_model=cv_model.bestModel, artifact_path='best_classifier') \n"
   ]
  },
  {
   "cell_type": "markdown",
   "metadata": {},
   "source": [
    "### ML Flow: logowanie eksperymentu z modelem GBT\n",
    "Wykorzystanie innego modelu, drzew decyzyjnych ze wzmocnieniem gradientowym."
   ]
  },
  {
   "cell_type": "code",
   "execution_count": null,
   "metadata": {},
   "outputs": [],
   "source": [
    "from pyspark.ml.classification import GBTClassifier\n",
    "gbt = GBTClassifier(labelCol=\"label\", featuresCol=\"features\", maxIter=10)\n",
    "gbt_model = gbt.fit(training)\n",
    "\n",
    "with mlflow.start_run(experiment_id = experiment.experiment_id, run_name=\"gbt_model\"):\n",
    "  \n",
    "    mlflow.log_param(\"depth\", gbt.getMaxDepth())\n",
    "\n",
    "    res = gbt_model.transform(test)\n",
    "    \n",
    "    test_metric_auroc = evaluator_auroc.evaluate(res)\n",
    "    test_metric_acc = evaluator_acc.evaluate(res)\n",
    "    test_metric_recall = evaluator_recall.evaluate(res)\n",
    "    test_metric_prec = evaluator_prec.evaluate(res)\n",
    "    test_metric_f = evaluator_f.evaluate(res)\n",
    "\n",
    "    mlflow.log_metric(evaluator_auroc.getMetricName(), test_metric_auroc) \n",
    "    mlflow.log_metric(evaluator_acc.getMetricName(), test_metric_acc) \n",
    "    mlflow.log_metric(evaluator_recall.getMetricName(), test_metric_recall) \n",
    "    mlflow.log_metric(evaluator_prec.getMetricName(), test_metric_prec)     \n",
    "    mlflow.log_metric(evaluator_f.getMetricName(), test_metric_f) \n",
    "  \n",
    "    mlflow.spark.log_model(spark_model=gbt_model, artifact_path='gbt_classifier') "
   ]
  },
  {
   "cell_type": "markdown",
   "metadata": {},
   "source": [
    "### ML Flow: serwowanie modelu\n",
    "\n",
    "Zeby zapewnić prosty interfejs do klasyfikatora, zapiszemy model wraz z krokami wstępnego przetwarzania (przekształcenie danych wejściowych w wektor cech)\n",
    "\n",
    "Model jest przechowany w strukturze katalogowej - wraz z konfiguracją (zaleznosciami) oraz zserializowana reprezentacją. Moze byc przechowany w kilku \"smakach\" (flavour) w naszym przypadku jest to SparkML model oraz Pythonowa funkcja."
   ]
  },
  {
   "cell_type": "code",
   "execution_count": null,
   "metadata": {},
   "outputs": [],
   "source": [
    "import mlflow\n",
    "import mlflow.spark\n",
    "from pyspark.ml.classification import GBTClassifier\n",
    "\n",
    "raw_training, raw_test = spark_df.randomSplit([0.8, 0.2], seed=1234)\n",
    "\n",
    "full_classifier_name=f\"{user_name}_full_gbt_classifier\"\n",
    "version=1\n",
    "\n",
    "with mlflow.start_run(experiment_id = experiment.experiment_id, run_name=\"gbt_model_raw\"):\n",
    "    pipeline = Pipeline(stages=stringindexer_stages + \\\n",
    "                          onehotencoder_stages + \\\n",
    "                          [vectorassembler_stage] + [gbt] )\n",
    "    model = pipeline.fit(raw_training)\n",
    "    mlflow.spark.log_model(spark_model=model, artifact_path='gbt_classifier', registered_model_name=full_classifier_name)"
   ]
  },
  {
   "cell_type": "markdown",
   "metadata": {},
   "source": [
    "### Klasyfikacja jako serwis REST\n",
    "\n",
    "Sekwencja komend do uruchomienia w terminalu\n",
    "\n",
    "```bash\n",
    "export USER_NAME=yourGitHubUserName # TODO change\n",
    "export MLFLOW_TRACKING_URI=https://mlflow-server-919598915406.us-central1.run.app\n",
    "export MODEL_VERSION=1\n",
    "export MODEL_NAME=full_gbt_classifier\n",
    "export MLFLOW_SERVE_PORT=9090\n",
    "cd\n",
    "/opt/conda/miniconda3/bin/python -m venv ./venv\n",
    "source ./venv/bin/activate\n",
    "mlflow models serve -m models:/${USER_NAME}_${MODEL_NAME}/${MODEL_VERSION} -p ${MLFLOW_SERVE_PORT} --no-conda\n",
    "```"
   ]
  },
  {
   "cell_type": "markdown",
   "metadata": {},
   "source": [
    "#### Przykładowe wywołanie serwisu"
   ]
  },
  {
   "cell_type": "code",
   "execution_count": null,
   "metadata": {},
   "outputs": [],
   "source": [
    "import requests \n",
    "\n",
    "url = \"http://localhost:9090/invocations\"\n",
    "headers = {'Content-Type': 'application/json'}\n",
    "\n",
    "input_data = {\n",
    "    \"dataframe_split\": {\n",
    "        \"columns\": [\"OpSys\", \"EdLevel\", \"MainBranch\", \"Country\", \"JobSeek\", \"YearsCode\"],\n",
    "        \"data\": [\n",
    "            [\n",
    "                \"MacOS\",\n",
    "                \"Master’s degree (M.A., M.S., M.Eng., MBA, etc.)\",\n",
    "                \"I am a developer by profession\",\n",
    "                \"United Kingdom\",\n",
    "                \"I am not interested in new job opportunities\",\n",
    "                \"10\"\n",
    "            ]\n",
    "        ]\n",
    "    }\n",
    "}\n",
    "\n",
    "r = requests.post(url, json=input_data, headers=headers) \n",
    "print(r.text)"
   ]
  },
  {
   "cell_type": "code",
   "execution_count": null,
   "metadata": {},
   "outputs": [],
   "source": [
    "spark.stop()"
   ]
  },
  {
   "cell_type": "markdown",
   "metadata": {},
   "source": [
    "# Podsumowanie kursu\n",
    "\n",
    "Podczas zajęć przećwiczyliśmy następujące technologii i narzędzi z zakresu Data&AI:\n",
    "Przechowywanie:\n",
    "* rozproszony system plików (HDFS)\n",
    "* obiektowy system plików (GCS)\n",
    "\n",
    "Środowiska pracy:\n",
    "* lokalny klaster Hadoop \n",
    "* klaster Kubernetes w chmurze Google\n",
    "* notatniki Jupyter \n",
    "\n",
    "Przetwarzanie danych:\n",
    "* Apache Spark, API DataFrame i SQL\n",
    "* Pandas\n",
    "* Python\n",
    "\n",
    "Wizualizacja danych:\n",
    "* matplotlib\n",
    "* seaborn\n",
    "\n"
   ]
  },
  {
   "cell_type": "markdown",
   "metadata": {},
   "source": [
    "![](../img/ecosystem_green.png)"
   ]
  }
 ],
 "metadata": {
  "kernelspec": {
   "display_name": "datascience",
   "language": "python",
   "name": "datascience"
  },
  "language_info": {
   "codemirror_mode": {
    "name": "ipython",
    "version": 3
   },
   "file_extension": ".py",
   "mimetype": "text/x-python",
   "name": "python",
   "nbconvert_exporter": "python",
   "pygments_lexer": "ipython3",
   "version": "3.7.12"
  },
  "notebook_test": {
   "keytab_path": "/data/work/home/ds-lab-testuser1/ds-lab-testuser1.keytab",
   "user": "ds-lab-testuser1"
  }
 },
 "nbformat": 4,
 "nbformat_minor": 4
}
